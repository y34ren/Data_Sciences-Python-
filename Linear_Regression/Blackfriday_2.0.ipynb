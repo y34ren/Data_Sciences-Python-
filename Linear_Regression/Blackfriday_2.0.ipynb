{
 "cells": [
  {
   "cell_type": "code",
   "execution_count": 1,
   "metadata": {},
   "outputs": [],
   "source": [
    "import pandas as pd\n",
    "import numpy as np\n",
    "import math\n",
    "import matplotlib.pyplot as plt\n",
    "%matplotlib inline\n"
   ]
  },
  {
   "cell_type": "code",
   "execution_count": 2,
   "metadata": {},
   "outputs": [],
   "source": [
    "def OLS(y,y_hat):\n",
    "    return (y - y_hat).dot(y - y_hat)\n",
    "def R2 (y, y_hat):\n",
    "    return 1 - OLS(y, y_hat) / OLS(y,y.mean())\n",
    "\n",
    "def OLS_L2(y,y_hat,l2,w):\n",
    "    return (y - y_hat).dot(y - y_hat) + l2*w.T.dot(w)\n",
    "\n",
    "\n",
    "# GD with no reularzition\n",
    "def GD(X,y,eta):\n",
    "    \n",
    "    w = np.random.randn(X.shape[1])\n",
    "    J = []\n",
    "    epochs = int(1e3)\n",
    "\n",
    "    for i in range(epochs):\n",
    "        y_hat = X.dot(w)\n",
    "        J.append(OLS(y,y_hat))\n",
    "        w -= eta*X.T.dot(y_hat - y)\n",
    "    \n",
    "    return (J,w,y_hat)\n",
    "\n",
    "def J_Va (X1,y1,X2,y2):\n",
    "    \n",
    "    cv = []\n",
    "    \n",
    "    N_train = X1.shape[0]\n",
    "    N_cv = X2.shape[0]\n",
    "    \n",
    "    for lambda1 in range(100):\n",
    "        for lambda2 in range(100):\n",
    "            w = np.random.randn(X1.shape[1])\n",
    "    \n",
    "            eta = 3e-5\n",
    "            epochs = int(1e3)\n",
    "    \n",
    "            for t in range(epochs):\n",
    "                y_hat_train = X1.dot(w)\n",
    "                w -= eta*(X1.T.dot(y_hat_train - y1) + lambda2*w + lambda1*np.sign(w_l1))\n",
    "        \n",
    "            y_hat_cv = X2.dot(w)\n",
    "    \n",
    "            J_train = (1/N_train)*OLS(y1, y_hat_train)\n",
    "            J_cv = (1/N_cv)*OLS(y2, y_hat_cv)\n",
    "    \n",
    "            cv.append((J_train, J_cv, lambda1, lambda2))\n",
    "    return cv"
   ]
  },
  {
   "cell_type": "code",
   "execution_count": 3,
   "metadata": {},
   "outputs": [],
   "source": [
    "np.random.seed(101)\n",
    "df = pd.read_csv(\"./Project2Data/BlackFriday.csv\")\n",
    "df.drop(['User_ID', 'Product_ID','Product_Category_2','Product_Category_3'], axis=1, inplace = True)\n",
    "columns_to_1hot = ['Gender','City_Category','Age','Occupation','Marital_Status','Product_Category_1']\n",
    "df = pd.get_dummies(df, columns=columns_to_1hot)\n",
    "df = df.sample(frac=1)\n",
    "\n",
    "Train = int(df.shape[0] * 0.6)\n",
    "Validate = int(df.shape[0] * 0.2)\n",
    "Test = int(df.shape[0] - Train - Validate)\n",
    "\n",
    "Train_Model =  df[:Train:]\n",
    "Validate_Model = df[Train:Validate + Train:]\n",
    "Test_Model = df[Validate + Train::]\n",
    "    \n",
    "    \n",
    "D_Train = pd.get_dummies(Train_Model)\n",
    "D_Train.drop(\"Purchase\",axis='columns',inplace=True)\n",
    "\n",
    "y1 = Train_Model.Purchase\n",
    "x1 = D_Train\n",
    "    \n",
    "x1 = (x1 - x1.min()) / (x1.max() - x1.min())\n",
    "X1 = np.vstack([np.array([1]*(x1.shape[0])), x1.T]).T\n",
    "    \n",
    "Id1 = np.identity(X1.shape[1])\n",
    "Id2 = np.identity(X1.shape[1])\n",
    "Id1[0,0] = 0\n",
    "\n",
    "D_Validate = pd.get_dummies(Validate_Model)\n",
    "D_Validate.drop(\"Purchase\",axis='columns',inplace=True)\n",
    "\n",
    "y2 = Validate_Model.Purchase\n",
    "x2 = D_Validate\n",
    "\n",
    "x2 = (x2 - x2.min()) / (x2.max() - x2.min())\n",
    "X2 = np.vstack([np.array([1]*(x2.shape[0])), x2.T]).T\n",
    "\n",
    "\n",
    "D_Test = pd.get_dummies(Test_Model)\n",
    "D_Test.drop(\"Purchase\",axis='columns',inplace=True)\n",
    "\n",
    "y3 = Test_Model.Purchase\n",
    "x3 = D_Test\n",
    "\n",
    "x3 = (x3 - x3.min()) / (x3.max() - x3.min())\n",
    "X3 = np.vstack([np.array([1]*(x3.shape[0])), x3.T]).T"
   ]
  },
  {
   "cell_type": "code",
   "execution_count": 4,
   "metadata": {},
   "outputs": [
    {
     "data": {
      "text/plain": [
       "[<matplotlib.lines.Line2D at 0x26a8c376278>]"
      ]
     },
     "execution_count": 4,
     "metadata": {},
     "output_type": "execute_result"
    },
    {
     "data": {
      "image/png": "[encoded data removed]",
      "text/plain": [
       "<Figure size 432x288 with 1 Axes>"
      ]
     },
     "metadata": {
      "needs_background": "light"
     },
     "output_type": "display_data"
    }
   ],
   "source": [
    "output = GD(X1,y1,1e-6)# J,w,y_hat\n",
    "plt.plot(output[0])\n"
   ]
  },
  {
   "cell_type": "markdown",
   "metadata": {},
   "source": [
    "A suitable learning speed is 1e-6"
   ]
  },
  {
   "cell_type": "code",
   "execution_count": 5,
   "metadata": {},
   "outputs": [
    {
     "name": "stdout",
     "output_type": "stream",
     "text": [
      "Training Error: 9145483.798479589\n",
      "Validation Error: 9311889.958036693\n"
     ]
    }
   ],
   "source": [
    "N_train = X1.shape[0]\n",
    "N_cv = X2.shape[0]\n",
    "\n",
    "J_train = (1/N_train)*OLS(y1, output[2])\n",
    "\n",
    "y_hat_cv = X2.dot(output[1])\n",
    "\n",
    "J_cv = (1/N_cv)*OLS(y2, y_hat_cv)\n",
    "\n",
    "print(\"Training Error: {}\".format(J_train))\n",
    "print(\"Validation Error: {}\".format(J_cv))"
   ]
  },
  {
   "cell_type": "markdown",
   "metadata": {},
   "source": [
    "underfiting - need  regularization L1/L2/both  (sparse martrix python)"
   ]
  },
  {
   "cell_type": "code",
   "execution_count": 6,
   "metadata": {},
   "outputs": [
    {
     "name": "stderr",
     "output_type": "stream",
     "text": [
      "C:\\Users\\Consultants\\Anaconda3\\lib\\site-packages\\ipykernel_launcher.py:40: RuntimeWarning: invalid value encountered in multiply\n",
      "C:\\Users\\Consultants\\Anaconda3\\lib\\site-packages\\ipykernel_launcher.py:40: RuntimeWarning: invalid value encountered in double_scalars\n",
      "C:\\Users\\Consultants\\Anaconda3\\lib\\site-packages\\ipykernel_launcher.py:40: RuntimeWarning: invalid value encountered in add\n"
     ]
    },
    {
     "ename": "KeyboardInterrupt",
     "evalue": "",
     "output_type": "error",
     "traceback": [
      "\u001b[1;31m---------------------------------------------------------------------------\u001b[0m",
      "\u001b[1;31mKeyboardInterrupt\u001b[0m                         Traceback (most recent call last)",
      "\u001b[1;32m<ipython-input-6-2c2963fb9937>\u001b[0m in \u001b[0;36m<module>\u001b[1;34m\u001b[0m\n\u001b[1;32m----> 1\u001b[1;33m \u001b[0mcv\u001b[0m \u001b[1;33m=\u001b[0m \u001b[0mJ_Va\u001b[0m \u001b[1;33m(\u001b[0m\u001b[0mX1\u001b[0m\u001b[1;33m,\u001b[0m\u001b[0my1\u001b[0m\u001b[1;33m,\u001b[0m\u001b[0mX2\u001b[0m\u001b[1;33m,\u001b[0m\u001b[0my2\u001b[0m\u001b[1;33m)\u001b[0m\u001b[1;33m\u001b[0m\u001b[1;33m\u001b[0m\u001b[0m\n\u001b[0m\u001b[0;32m      2\u001b[0m \u001b[1;32mfor\u001b[0m \u001b[0mi\u001b[0m \u001b[1;32min\u001b[0m \u001b[0mcv\u001b[0m\u001b[1;33m[\u001b[0m\u001b[1;33m:\u001b[0m\u001b[1;36m10\u001b[0m\u001b[1;33m]\u001b[0m\u001b[1;33m:\u001b[0m\u001b[1;33m\u001b[0m\u001b[1;33m\u001b[0m\u001b[0m\n\u001b[0;32m      3\u001b[0m     \u001b[0mprint\u001b[0m\u001b[1;33m(\u001b[0m\u001b[0mi\u001b[0m\u001b[1;33m)\u001b[0m\u001b[1;33m\u001b[0m\u001b[1;33m\u001b[0m\u001b[0m\n",
      "\u001b[1;32m<ipython-input-2-5fa498a50dff>\u001b[0m in \u001b[0;36mJ_Va\u001b[1;34m(X1, y1, X2, y2)\u001b[0m\n\u001b[0;32m     38\u001b[0m             \u001b[1;32mfor\u001b[0m \u001b[0mt\u001b[0m \u001b[1;32min\u001b[0m \u001b[0mrange\u001b[0m\u001b[1;33m(\u001b[0m\u001b[0mepochs\u001b[0m\u001b[1;33m)\u001b[0m\u001b[1;33m:\u001b[0m\u001b[1;33m\u001b[0m\u001b[1;33m\u001b[0m\u001b[0m\n\u001b[0;32m     39\u001b[0m                 \u001b[0my_hat_train\u001b[0m \u001b[1;33m=\u001b[0m \u001b[0mX1\u001b[0m\u001b[1;33m.\u001b[0m\u001b[0mdot\u001b[0m\u001b[1;33m(\u001b[0m\u001b[0mw\u001b[0m\u001b[1;33m)\u001b[0m\u001b[1;33m\u001b[0m\u001b[1;33m\u001b[0m\u001b[0m\n\u001b[1;32m---> 40\u001b[1;33m                 \u001b[0mw\u001b[0m \u001b[1;33m-=\u001b[0m \u001b[0meta\u001b[0m\u001b[1;33m*\u001b[0m\u001b[1;33m(\u001b[0m\u001b[0mX1\u001b[0m\u001b[1;33m.\u001b[0m\u001b[0mT\u001b[0m\u001b[1;33m.\u001b[0m\u001b[0mdot\u001b[0m\u001b[1;33m(\u001b[0m\u001b[0my_hat_train\u001b[0m \u001b[1;33m-\u001b[0m \u001b[0my1\u001b[0m\u001b[1;33m)\u001b[0m \u001b[1;33m+\u001b[0m \u001b[0mlambda2\u001b[0m\u001b[1;33m*\u001b[0m\u001b[0mw\u001b[0m \u001b[1;33m+\u001b[0m \u001b[0mlambda1\u001b[0m\u001b[1;33m*\u001b[0m\u001b[0mnp\u001b[0m\u001b[1;33m.\u001b[0m\u001b[0msum\u001b[0m\u001b[1;33m(\u001b[0m\u001b[0mnp\u001b[0m\u001b[1;33m.\u001b[0m\u001b[0mabs\u001b[0m\u001b[1;33m(\u001b[0m\u001b[0mw\u001b[0m\u001b[1;33m)\u001b[0m\u001b[1;33m)\u001b[0m\u001b[1;33m)\u001b[0m\u001b[1;33m\u001b[0m\u001b[1;33m\u001b[0m\u001b[0m\n\u001b[0m\u001b[0;32m     41\u001b[0m \u001b[1;33m\u001b[0m\u001b[0m\n\u001b[0;32m     42\u001b[0m             \u001b[0my_hat_cv\u001b[0m \u001b[1;33m=\u001b[0m \u001b[0mX2\u001b[0m\u001b[1;33m.\u001b[0m\u001b[0mdot\u001b[0m\u001b[1;33m(\u001b[0m\u001b[0mw\u001b[0m\u001b[1;33m)\u001b[0m\u001b[1;33m\u001b[0m\u001b[1;33m\u001b[0m\u001b[0m\n",
      "\u001b[1;31mKeyboardInterrupt\u001b[0m: "
     ]
    }
   ],
   "source": [
    "cv = J_Va (X1,y1,X2,y2)\n",
    "for i in cv[:10]:\n",
    "    print(i)"
   ]
  },
  {
   "cell_type": "code",
   "execution_count": null,
   "metadata": {},
   "outputs": [],
   "source": [
    "J_train = [i for i,j,k,m in cv]\n",
    "J_cv = [j for i,j,k,m in cv]\n",
    "lambda1 = [k for i,j,k,m in cv]\n",
    "lambda2 = [m for i,j,k,m in cv]\n",
    "\n",
    "o = J_cv.index(min(J_cv))\n",
    "\n",
    "l1 = lambda1[o]\n",
    "l2 = lambda2[o]"
   ]
  },
  {
   "cell_type": "code",
   "execution_count": null,
   "metadata": {},
   "outputs": [],
   "source": [
    "plt.figure(figsize = (8,6))\n",
    "plt.plot(lambda2, J_train, label = \"Training Error\")\n",
    "plt.plot(lambda2, J_cv, label = \"Validation Error\")\n",
    "plt.legend()"
   ]
  },
  {
   "cell_type": "code",
   "execution_count": null,
   "metadata": {},
   "outputs": [],
   "source": [
    "plt.figure(figsize = (8,6))\n",
    "plt.plot(lambda1, J_train, label = \"Training Error\")\n",
    "plt.plot(lambda1, J_cv, label = \"Validation Error\")\n",
    "plt.legend()"
   ]
  },
  {
   "cell_type": "code",
   "execution_count": null,
   "metadata": {},
   "outputs": [],
   "source": [
    "w = np.random.randn(X1.shape[1])\n",
    "\n",
    "eta = 3e-5\n",
    "epochs = int(1e3)\n",
    "\n",
    "for t in range(epochs):\n",
    "    y_hat_train = X1.dot(w)\n",
    "    w -= eta*(X1.T.dot(y_hat_train - y1) + l2*w + l1*np.sign(w))\n",
    "    \n",
    "y_hat_test = X3.dot(w)\n",
    "\n",
    "N_test = X3.shape[0]\n",
    "J_test = (1/N_test)*OLS(y3, y_hat_test)\n",
    "\n",
    "print(\"Test Error: {}\".format(J_test))"
   ]
  },
  {
   "cell_type": "code",
   "execution_count": null,
   "metadata": {},
   "outputs": [],
   "source": []
  }
 ],
 "metadata": {
  "kernelspec": {
   "display_name": "Python 3",
   "language": "python",
   "name": "python3"
  },
  "language_info": {
   "codemirror_mode": {
    "name": "ipython",
    "version": 3
   },
   "file_extension": ".py",
   "mimetype": "text/x-python",
   "name": "python",
   "nbconvert_exporter": "python",
   "pygments_lexer": "ipython3",
   "version": "3.7.1"
  }
 },
 "nbformat": 4,
 "nbformat_minor": 2
}
