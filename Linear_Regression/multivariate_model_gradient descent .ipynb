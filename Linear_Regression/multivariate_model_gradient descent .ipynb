{
 "cells": [
  {
   "cell_type": "code",
   "execution_count": 2,
   "metadata": {},
   "outputs": [],
   "source": [
    "import pandas as pd\n",
    "import numpy as np\n",
    "import matplotlib.pyplot as plt\n",
    "%matplotlib inline"
   ]
  },
  {
   "cell_type": "markdown",
   "metadata": {},
   "source": [
    "# Functions\n",
    "\n",
    "def OLS(Y, Y_hat):\n",
    "    return np.trace((Y - Y_hat).T.dot(Y - Y_hat))\n",
    "\n",
    "def R2(Y, Y_hat):\n",
    "    return 1 - ((Y - Y_hat)**2).sum(axis = 0) / ((Y - Y_hat.mean(axis = 0))**2).sum(axis = 0)\n",
    "\n",
    "\n",
    "# Determine the Dimensions\n",
    "\n",
    "N = 500\n",
    "D = 3\n",
    "K = 2\n",
    "\n",
    "\n",
    "# Simulate the Data\n",
    "\n",
    "X = np.random.randn(N,D)\n",
    "PHI = np.column_stack((np.array([[1]*N]).T, X, X[:,0]**2, X[:,1]**2, X[:,2]**2))\n",
    "\n",
    "W_true = np.random.randn(PHI.shape[1], K)\n",
    "\n",
    "Y = PHI.dot(W_true) + np.random.randn(N,K)\n",
    "\n",
    "\n",
    "# Fit the Model (Normal Equation Solution)\n",
    "\n",
    "W = np.linalg.solve(PHI.T.dot(PHI), PHI.T.dot(Y))\n",
    "Y_hat = PHI.dot(W)\n",
    "\n",
    "\n",
    "# Report R-squared\n",
    "\n",
    "print(\"y_1 R-squared: {}\".format(R2(Y, Y_hat)[0]))\n",
    "print(\"y_2 R-squared: {}\".format(R2(Y, Y_hat)[1]))"
   ]
  },
  {
   "cell_type": "code",
   "execution_count": 70,
   "metadata": {},
   "outputs": [
    {
     "name": "stdout",
     "output_type": "stream",
     "text": [
      "y_1 R-squared: 0.9380761032473278\n",
      "y_2 R-squared: 0.9152556310480204\n"
     ]
    },
    {
     "data": {
      "image/png": "[encoded data removed]",
      "text/plain": [
       "<Figure size 864x648 with 1 Axes>"
      ]
     },
     "metadata": {
      "needs_background": "light"
     },
     "output_type": "display_data"
    }
   ],
   "source": [
    "def OLS(Y, Y_hat):\n",
    "    return np.trace((Y - Y_hat).T.dot(Y - Y_hat))\n",
    "\n",
    "def R2(Y, Y_hat):\n",
    "    return 1 - ((Y - Y_hat)**2).sum(axis = 0) / ((Y - Y_hat.mean(axis = 0))**2).sum(axis = 0)\n",
    "\n",
    "\n",
    "# Determine the Dimensions\n",
    "\n",
    "N = 500\n",
    "D = 3\n",
    "K = 2\n",
    "\n",
    "\n",
    "# Simulate the Data\n",
    "\n",
    "X = np.random.randn(N,D)\n",
    "PHI = np.column_stack((np.array([[1]*N]).T, X, X[:,0]**2, X[:,1]**2, X[:,2]**2))\n",
    "\n",
    "W_true = np.random.randn(PHI.shape[1],2)\n",
    "\n",
    "Y = PHI.dot(W_true) + np.random.randn(N,K)\n",
    "\n",
    "# J is of OLS\n",
    "J=[]\n",
    "\n",
    "eta = 3e-4\n",
    "epochs = 100\n",
    "\n",
    "for i in range ( epochs):\n",
    "    Y_hat = PHI.dot(W_true)\n",
    "    J.append(OLS(Y,Y_hat))\n",
    "    W_true -= eta*PHI.T.dot(Y_hat - Y)\n",
    "\n",
    "plt.figure(figsize= (12,9))\n",
    "\n",
    "plt.plot(J)\n",
    "\n",
    "print(\"y_1 R-squared: {}\".format(R2(Y, Y_hat)[0])) \n",
    "print(\"y_2 R-squared: {}\".format(R2(Y, Y_hat)[1]))"
   ]
  },
  {
   "cell_type": "code",
   "execution_count": null,
   "metadata": {},
   "outputs": [],
   "source": []
  },
  {
   "cell_type": "code",
   "execution_count": null,
   "metadata": {},
   "outputs": [],
   "source": []
  }
 ],
 "metadata": {
  "kernelspec": {
   "display_name": "Python 3",
   "language": "python",
   "name": "python3"
  },
  "language_info": {
   "codemirror_mode": {
    "name": "ipython",
    "version": 3
   },
   "file_extension": ".py",
   "mimetype": "text/x-python",
   "name": "python",
   "nbconvert_exporter": "python",
   "pygments_lexer": "ipython3",
   "version": "3.7.1"
  }
 },
 "nbformat": 4,
 "nbformat_minor": 2
}
