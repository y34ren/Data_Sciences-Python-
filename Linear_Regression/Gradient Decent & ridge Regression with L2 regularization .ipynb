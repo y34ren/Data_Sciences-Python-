{
 "cells": [
  {
   "cell_type": "code",
   "execution_count": 135,
   "metadata": {},
   "outputs": [],
   "source": [
    "import pandas as pd\n",
    "import numpy as np\n",
    "import math\n",
    "import matplotlib.pyplot as plt\n",
    "%matplotlib inline"
   ]
  },
  {
   "cell_type": "code",
   "execution_count": 136,
   "metadata": {},
   "outputs": [
    {
     "data": {
      "text/plain": [
       "<matplotlib.collections.PathCollection at 0x180aa555748>"
      ]
     },
     "execution_count": 136,
     "metadata": {},
     "output_type": "execute_result"
    },
    {
     "data": {
      "image/png": "[encoded data removed]",
      "text/plain": [
       "<Figure size 432x288 with 1 Axes>"
      ]
     },
     "metadata": {
      "needs_background": "light"
     },
     "output_type": "display_data"
    }
   ],
   "source": [
    "N = 50\n",
    "x = np.linspace(0,10,N)\n",
    "y = 3.1415926 + 0.87344*x + np.random.randn(N)\n",
    "\n",
    "y[2:4] += 25\n",
    "\n",
    "plt.scatter(x,y)\n"
   ]
  },
  {
   "cell_type": "code",
   "execution_count": 137,
   "metadata": {},
   "outputs": [],
   "source": [
    "X = np.vstack([np.array([1]*N), x]).T"
   ]
  },
  {
   "cell_type": "code",
   "execution_count": 142,
   "metadata": {},
   "outputs": [],
   "source": [
    "def OLS_L2(y,y_hat,l2,w):\n",
    "    return (y - y_hat).dot(y - y_hat) + l2*w.T.dot(w)\n",
    "\n",
    "def R2 (y, y_hat):\n",
    "    return 1 - OLS(y, y_hat) / OLS(y,y.mean())"
   ]
  },
  {
   "cell_type": "code",
   "execution_count": 147,
   "metadata": {},
   "outputs": [
    {
     "data": {
      "text/plain": [
       "[<matplotlib.lines.Line2D at 0x180aa7a6f28>]"
      ]
     },
     "execution_count": 147,
     "metadata": {},
     "output_type": "execute_result"
    },
    {
     "data": {
      "image/png": "[encoded data removed]",
      "text/plain": [
       "<Figure size 432x288 with 1 Axes>"
      ]
     },
     "metadata": {
      "needs_background": "light"
     },
     "output_type": "display_data"
    }
   ],
   "source": [
    "\n",
    "w = np.random.randn(X.shape[1])\n",
    "\n",
    "J=[]\n",
    "\n",
    "eta = 1e-3\n",
    "epochs = int(1e3)\n",
    "l2 = 25\n",
    "\n",
    "\n",
    "for i in range ( epochs):\n",
    "    y_hat = X.dot(w)\n",
    "    J.append(OLS_L2(y,y_hat,l2,w))\n",
    "    w -= eta*(X.T.dot(y_hat - y) + l2*w)\n",
    "\n",
    "#plt.figure(figsize= (12,9))\n",
    "\n",
    "plt.plot(J)"
   ]
  },
  {
   "cell_type": "code",
   "execution_count": 145,
   "metadata": {},
   "outputs": [
    {
     "data": {
      "text/plain": [
       "[<matplotlib.lines.Line2D at 0x180aa71bb00>]"
      ]
     },
     "execution_count": 145,
     "metadata": {},
     "output_type": "execute_result"
    },
    {
     "data": {
      "image/png": "[encoded data removed]",
      "text/plain": [
       "<Figure size 432x288 with 1 Axes>"
      ]
     },
     "metadata": {
      "needs_background": "light"
     },
     "output_type": "display_data"
    }
   ],
   "source": [
    "#plt.figure(figsize= (12,9))\n",
    "plt.scatter(x,y)\n",
    "plt.plot(x,y_hat, color = \"red\")"
   ]
  },
  {
   "cell_type": "code",
   "execution_count": 146,
   "metadata": {},
   "outputs": [
    {
     "data": {
      "text/plain": [
       "-0.2743269120625327"
      ]
     },
     "execution_count": 146,
     "metadata": {},
     "output_type": "execute_result"
    }
   ],
   "source": [
    "R2(y,y_hat)"
   ]
  },
  {
   "cell_type": "markdown",
   "metadata": {},
   "source": [
    "N = 200\n",
    "\n",
    "x2 = np.linspace(0,10,N)\n",
    "y2 = 3.1415926 + 0.87344*x2 + np.random.randn(N)\n",
    "\n",
    "X2 = np.vstack([np.array([1]*N), x2]).T\n",
    "w2 = np.random.randn(X2.shape[1])\n",
    "\n",
    "J2=[]\n",
    "\n",
    "eta = 1e-6\n",
    "epochs = int(1e3)\n",
    "l2 = 25\n",
    "\n",
    "for i in range ( epochs):\n",
    "    y_hat2 = X2.dot(w2)\n",
    "    J2.append(OLS_L2(y2,y_hat2,l2,w2))\n",
    "    w2 -= eta*(X2.T.dot(y_hat2 - y2) + l2*w2.dot(w2))\n",
    "\n",
    "plt.plot(J2)"
   ]
  },
  {
   "cell_type": "markdown",
   "metadata": {},
   "source": [
    "plt.scatter(x2,y2)\n",
    "plt.plot(x2,y_hat2, color = \"red\")\n"
   ]
  },
  {
   "cell_type": "markdown",
   "metadata": {},
   "source": [
    "R2(y2,y_hat2)"
   ]
  },
  {
   "cell_type": "markdown",
   "metadata": {},
   "source": [
    "noise = np.column_stack((X2 , np.random.randn(N,1)))\n",
    "        #w = np.linalg.solve(X.T.dot(X), X.T.dot(y))\n",
    "w_noise = np.linalg.solve(noise.T.dot(noise), noise.T.dot(y2))\n",
    "y_hat3 = noise.dot(w_noise)\n",
    "\n",
    "\n",
    "J3=[]\n",
    "\n",
    "eta = 1e-6\n",
    "epochs = int(1e3)\n",
    "l2 = 25\n",
    "\n",
    "for i in range ( epochs):\n",
    "    y_hat3 = noise.dot(w_noise)\n",
    "    J3.append(OLS_L2(y2,y_hat3,l2,w_noise))\n",
    "    w_noise -= eta*(noise.T.dot(y_hat3 - y2) + l2*w_noise.dot(w_noise))\n",
    "\n",
    "plt.plot(J3)"
   ]
  },
  {
   "cell_type": "markdown",
   "metadata": {},
   "source": [
    "R2(y2,y_hat3)"
   ]
  },
  {
   "cell_type": "markdown",
   "metadata": {},
   "source": [
    "plt.scatter(x2,y2)\n",
    "plt.plot(x2,y_hat3, color = \"red\")"
   ]
  },
  {
   "cell_type": "code",
   "execution_count": null,
   "metadata": {},
   "outputs": [],
   "source": []
  }
 ],
 "metadata": {
  "kernelspec": {
   "display_name": "Python 3",
   "language": "python",
   "name": "python3"
  },
  "language_info": {
   "codemirror_mode": {
    "name": "ipython",
    "version": 3
   },
   "file_extension": ".py",
   "mimetype": "text/x-python",
   "name": "python",
   "nbconvert_exporter": "python",
   "pygments_lexer": "ipython3",
   "version": "3.7.1"
  }
 },
 "nbformat": 4,
 "nbformat_minor": 2
}
