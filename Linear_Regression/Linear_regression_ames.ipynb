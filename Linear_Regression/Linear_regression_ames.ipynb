{
 "cells": [
  {
   "cell_type": "markdown",
   "metadata": {},
   "source": [
    "The first and still go-to choice model we will study is linear regression.  In this notebook we will also go over many of the essential ideas in machine learning and not only talk about how they are involved in linear regression, but for most every other method we will study as well. "
   ]
  },
  {
   "cell_type": "markdown",
   "metadata": {},
   "source": [
    "## Simple Linear Regression"
   ]
  },
  {
   "cell_type": "markdown",
   "metadata": {},
   "source": [
    "$\\hat{y} = \\hat{\\beta}_{0} + \\hat{\\beta}_{1}x$\n",
    "\n",
    "where the 'hat' symbol indicates an estimated value\n",
    "\n",
    "We want to find coefficients $\\hat{\\beta}_{0}$ and $\\hat{\\beta}_{1}$ so that the resulting line is as close as possible to the data.  Although there are several ways of measuring this \"fit\" or \"closeness,\" the metric we will be most concerned with involves minimizing the residual sum of squares(RSS)\n",
    "\n",
    "$$RSS = \\sum_{i=1}^n (Y_i - \\hat{Y}_i)^2 $$"
   ]
  },
  {
   "cell_type": "markdown",
   "metadata": {},
   "source": [
    "The true relationship between X and Y is given by $$Y = \\beta_{0} + \\beta_{1}X + \\epsilon$$"
   ]
  },
  {
   "cell_type": "markdown",
   "metadata": {},
   "source": [
    "Where $\\epsilon$ is the $irreducible$ error, the inherent variation in the data points that there is simply no way to predict"
   ]
  },
  {
   "cell_type": "markdown",
   "metadata": {},
   "source": [
    "If we divide the RSS by n, the number of observations, we get the ubiquitous metric $Mean$ $Squared$ $Error$ or MSE:\n",
    "$$MSE = \\frac{1}{n}\\sum_{i=1}^n (Y_i - \\hat{Y}_i)^2$$"
   ]
  },
  {
   "cell_type": "markdown",
   "metadata": {},
   "source": [
    "If we want to measure the average error in the units of y, we can take the square root of the MSE to get the RMSE:\n",
    "$$RMSE = \\sqrt{\\frac{1}{n}\\sum_{i=1}^n (Y_i - \\hat{Y}_i)^2}$$"
   ]
  },
  {
   "cell_type": "markdown",
   "metadata": {},
   "source": [
    "The other most important metric in linear regression is known as $R^2$ which takes the form:\n",
    "$$R^2 = \\frac{TSS-RSS}{TSS} = 1 - \\frac{RSS}{TSS}$$"
   ]
  },
  {
   "cell_type": "markdown",
   "metadata": {},
   "source": [
    "Or:\n",
    "$$R^2 = \\frac{\\sum_{i=1}^n(y_{i} - \\bar{y})^2 - \\sum_{i=1}^n(y_{i} - \\hat{y}_{i})^2}{\\sum_{i=1}^n(y_{i} - \\bar{y})^2}$$"
   ]
  },
  {
   "cell_type": "markdown",
   "metadata": {},
   "source": [
    "$R^2$ usually ranges from 0 to 1, with a value of 0 indicating that none of the variation in the data is explained by our model(no better than guessing) and a value of 1 indicating that our model 'explains' the data perfectly"
   ]
  },
  {
   "cell_type": "markdown",
   "metadata": {},
   "source": [
    "It is easiest to get an intuitive understanding of these concepts by practicing on a real dataset.  We will be working with mtcars dataset"
   ]
  },
  {
   "cell_type": "code",
   "execution_count": 1,
   "metadata": {},
   "outputs": [],
   "source": [
    "# importing libraries\n",
    "import pandas as pd\n",
    "import numpy as np\n",
    "import matplotlib.pyplot as plt\n",
    "import seaborn as sns"
   ]
  },
  {
   "cell_type": "code",
   "execution_count": 2,
   "metadata": {},
   "outputs": [],
   "source": [
    "# loading and inspecting the data\n",
    "df = pd.read_csv('./ames_housing_train.csv')"
   ]
  },
  {
   "cell_type": "code",
   "execution_count": 3,
   "metadata": {},
   "outputs": [
    {
     "data": {
      "text/html": [
       "<div>\n",
       "<style scoped>\n",
       "    .dataframe tbody tr th:only-of-type {\n",
       "        vertical-align: middle;\n",
       "    }\n",
       "\n",
       "    .dataframe tbody tr th {\n",
       "        vertical-align: top;\n",
       "    }\n",
       "\n",
       "    .dataframe thead th {\n",
       "        text-align: right;\n",
       "    }\n",
       "</style>\n",
       "<table border=\"1\" class=\"dataframe\">\n",
       "  <thead>\n",
       "    <tr style=\"text-align: right;\">\n",
       "      <th></th>\n",
       "      <th>Id</th>\n",
       "      <th>MSSubClass</th>\n",
       "      <th>MSZoning</th>\n",
       "      <th>LotFrontage</th>\n",
       "      <th>LotArea</th>\n",
       "      <th>Street</th>\n",
       "      <th>Alley</th>\n",
       "      <th>LotShape</th>\n",
       "      <th>LandContour</th>\n",
       "      <th>Utilities</th>\n",
       "      <th>...</th>\n",
       "      <th>PoolArea</th>\n",
       "      <th>PoolQC</th>\n",
       "      <th>Fence</th>\n",
       "      <th>MiscFeature</th>\n",
       "      <th>MiscVal</th>\n",
       "      <th>MoSold</th>\n",
       "      <th>YrSold</th>\n",
       "      <th>SaleType</th>\n",
       "      <th>SaleCondition</th>\n",
       "      <th>SalePrice</th>\n",
       "    </tr>\n",
       "  </thead>\n",
       "  <tbody>\n",
       "    <tr>\n",
       "      <th>0</th>\n",
       "      <td>1</td>\n",
       "      <td>60</td>\n",
       "      <td>RL</td>\n",
       "      <td>65.0</td>\n",
       "      <td>8450</td>\n",
       "      <td>Pave</td>\n",
       "      <td>NaN</td>\n",
       "      <td>Reg</td>\n",
       "      <td>Lvl</td>\n",
       "      <td>AllPub</td>\n",
       "      <td>...</td>\n",
       "      <td>0</td>\n",
       "      <td>NaN</td>\n",
       "      <td>NaN</td>\n",
       "      <td>NaN</td>\n",
       "      <td>0</td>\n",
       "      <td>2</td>\n",
       "      <td>2008</td>\n",
       "      <td>WD</td>\n",
       "      <td>Normal</td>\n",
       "      <td>208500</td>\n",
       "    </tr>\n",
       "    <tr>\n",
       "      <th>1</th>\n",
       "      <td>2</td>\n",
       "      <td>20</td>\n",
       "      <td>RL</td>\n",
       "      <td>80.0</td>\n",
       "      <td>9600</td>\n",
       "      <td>Pave</td>\n",
       "      <td>NaN</td>\n",
       "      <td>Reg</td>\n",
       "      <td>Lvl</td>\n",
       "      <td>AllPub</td>\n",
       "      <td>...</td>\n",
       "      <td>0</td>\n",
       "      <td>NaN</td>\n",
       "      <td>NaN</td>\n",
       "      <td>NaN</td>\n",
       "      <td>0</td>\n",
       "      <td>5</td>\n",
       "      <td>2007</td>\n",
       "      <td>WD</td>\n",
       "      <td>Normal</td>\n",
       "      <td>181500</td>\n",
       "    </tr>\n",
       "    <tr>\n",
       "      <th>2</th>\n",
       "      <td>3</td>\n",
       "      <td>60</td>\n",
       "      <td>RL</td>\n",
       "      <td>68.0</td>\n",
       "      <td>11250</td>\n",
       "      <td>Pave</td>\n",
       "      <td>NaN</td>\n",
       "      <td>IR1</td>\n",
       "      <td>Lvl</td>\n",
       "      <td>AllPub</td>\n",
       "      <td>...</td>\n",
       "      <td>0</td>\n",
       "      <td>NaN</td>\n",
       "      <td>NaN</td>\n",
       "      <td>NaN</td>\n",
       "      <td>0</td>\n",
       "      <td>9</td>\n",
       "      <td>2008</td>\n",
       "      <td>WD</td>\n",
       "      <td>Normal</td>\n",
       "      <td>223500</td>\n",
       "    </tr>\n",
       "    <tr>\n",
       "      <th>3</th>\n",
       "      <td>4</td>\n",
       "      <td>70</td>\n",
       "      <td>RL</td>\n",
       "      <td>60.0</td>\n",
       "      <td>9550</td>\n",
       "      <td>Pave</td>\n",
       "      <td>NaN</td>\n",
       "      <td>IR1</td>\n",
       "      <td>Lvl</td>\n",
       "      <td>AllPub</td>\n",
       "      <td>...</td>\n",
       "      <td>0</td>\n",
       "      <td>NaN</td>\n",
       "      <td>NaN</td>\n",
       "      <td>NaN</td>\n",
       "      <td>0</td>\n",
       "      <td>2</td>\n",
       "      <td>2006</td>\n",
       "      <td>WD</td>\n",
       "      <td>Abnorml</td>\n",
       "      <td>140000</td>\n",
       "    </tr>\n",
       "    <tr>\n",
       "      <th>4</th>\n",
       "      <td>5</td>\n",
       "      <td>60</td>\n",
       "      <td>RL</td>\n",
       "      <td>84.0</td>\n",
       "      <td>14260</td>\n",
       "      <td>Pave</td>\n",
       "      <td>NaN</td>\n",
       "      <td>IR1</td>\n",
       "      <td>Lvl</td>\n",
       "      <td>AllPub</td>\n",
       "      <td>...</td>\n",
       "      <td>0</td>\n",
       "      <td>NaN</td>\n",
       "      <td>NaN</td>\n",
       "      <td>NaN</td>\n",
       "      <td>0</td>\n",
       "      <td>12</td>\n",
       "      <td>2008</td>\n",
       "      <td>WD</td>\n",
       "      <td>Normal</td>\n",
       "      <td>250000</td>\n",
       "    </tr>\n",
       "  </tbody>\n",
       "</table>\n",
       "<p>5 rows × 81 columns</p>\n",
       "</div>"
      ],
      "text/plain": [
       "   Id  MSSubClass MSZoning  LotFrontage  LotArea Street Alley LotShape  \\\n",
       "0   1          60       RL         65.0     8450   Pave   NaN      Reg   \n",
       "1   2          20       RL         80.0     9600   Pave   NaN      Reg   \n",
       "2   3          60       RL         68.0    11250   Pave   NaN      IR1   \n",
       "3   4          70       RL         60.0     9550   Pave   NaN      IR1   \n",
       "4   5          60       RL         84.0    14260   Pave   NaN      IR1   \n",
       "\n",
       "  LandContour Utilities    ...     PoolArea PoolQC Fence MiscFeature MiscVal  \\\n",
       "0         Lvl    AllPub    ...            0    NaN   NaN         NaN       0   \n",
       "1         Lvl    AllPub    ...            0    NaN   NaN         NaN       0   \n",
       "2         Lvl    AllPub    ...            0    NaN   NaN         NaN       0   \n",
       "3         Lvl    AllPub    ...            0    NaN   NaN         NaN       0   \n",
       "4         Lvl    AllPub    ...            0    NaN   NaN         NaN       0   \n",
       "\n",
       "  MoSold YrSold  SaleType  SaleCondition  SalePrice  \n",
       "0      2   2008        WD         Normal     208500  \n",
       "1      5   2007        WD         Normal     181500  \n",
       "2      9   2008        WD         Normal     223500  \n",
       "3      2   2006        WD        Abnorml     140000  \n",
       "4     12   2008        WD         Normal     250000  \n",
       "\n",
       "[5 rows x 81 columns]"
      ]
     },
     "execution_count": 3,
     "metadata": {},
     "output_type": "execute_result"
    }
   ],
   "source": [
    "df.head()"
   ]
  },
  {
   "cell_type": "code",
   "execution_count": 4,
   "metadata": {
    "scrolled": true
   },
   "outputs": [
    {
     "name": "stdout",
     "output_type": "stream",
     "text": [
      "<class 'pandas.core.frame.DataFrame'>\n",
      "RangeIndex: 1460 entries, 0 to 1459\n",
      "Data columns (total 81 columns):\n",
      "Id               1460 non-null int64\n",
      "MSSubClass       1460 non-null int64\n",
      "MSZoning         1460 non-null object\n",
      "LotFrontage      1201 non-null float64\n",
      "LotArea          1460 non-null int64\n",
      "Street           1460 non-null object\n",
      "Alley            91 non-null object\n",
      "LotShape         1460 non-null object\n",
      "LandContour      1460 non-null object\n",
      "Utilities        1460 non-null object\n",
      "LotConfig        1460 non-null object\n",
      "LandSlope        1460 non-null object\n",
      "Neighborhood     1460 non-null object\n",
      "Condition1       1460 non-null object\n",
      "Condition2       1460 non-null object\n",
      "BldgType         1460 non-null object\n",
      "HouseStyle       1460 non-null object\n",
      "OverallQual      1460 non-null int64\n",
      "OverallCond      1460 non-null int64\n",
      "YearBuilt        1460 non-null int64\n",
      "YearRemodAdd     1460 non-null int64\n",
      "RoofStyle        1460 non-null object\n",
      "RoofMatl         1460 non-null object\n",
      "Exterior1st      1460 non-null object\n",
      "Exterior2nd      1460 non-null object\n",
      "MasVnrType       1452 non-null object\n",
      "MasVnrArea       1452 non-null float64\n",
      "ExterQual        1460 non-null object\n",
      "ExterCond        1460 non-null object\n",
      "Foundation       1460 non-null object\n",
      "BsmtQual         1423 non-null object\n",
      "BsmtCond         1423 non-null object\n",
      "BsmtExposure     1422 non-null object\n",
      "BsmtFinType1     1423 non-null object\n",
      "BsmtFinSF1       1460 non-null int64\n",
      "BsmtFinType2     1422 non-null object\n",
      "BsmtFinSF2       1460 non-null int64\n",
      "BsmtUnfSF        1460 non-null int64\n",
      "TotalBsmtSF      1460 non-null int64\n",
      "Heating          1460 non-null object\n",
      "HeatingQC        1460 non-null object\n",
      "CentralAir       1460 non-null object\n",
      "Electrical       1459 non-null object\n",
      "1stFlrSF         1460 non-null int64\n",
      "2ndFlrSF         1460 non-null int64\n",
      "LowQualFinSF     1460 non-null int64\n",
      "GrLivArea        1460 non-null int64\n",
      "BsmtFullBath     1460 non-null int64\n",
      "BsmtHalfBath     1460 non-null int64\n",
      "FullBath         1460 non-null int64\n",
      "HalfBath         1460 non-null int64\n",
      "BedroomAbvGr     1460 non-null int64\n",
      "KitchenAbvGr     1460 non-null int64\n",
      "KitchenQual      1460 non-null object\n",
      "TotRmsAbvGrd     1460 non-null int64\n",
      "Functional       1460 non-null object\n",
      "Fireplaces       1460 non-null int64\n",
      "FireplaceQu      770 non-null object\n",
      "GarageType       1379 non-null object\n",
      "GarageYrBlt      1379 non-null float64\n",
      "GarageFinish     1379 non-null object\n",
      "GarageCars       1460 non-null int64\n",
      "GarageArea       1460 non-null int64\n",
      "GarageQual       1379 non-null object\n",
      "GarageCond       1379 non-null object\n",
      "PavedDrive       1460 non-null object\n",
      "WoodDeckSF       1460 non-null int64\n",
      "OpenPorchSF      1460 non-null int64\n",
      "EnclosedPorch    1460 non-null int64\n",
      "3SsnPorch        1460 non-null int64\n",
      "ScreenPorch      1460 non-null int64\n",
      "PoolArea         1460 non-null int64\n",
      "PoolQC           7 non-null object\n",
      "Fence            281 non-null object\n",
      "MiscFeature      54 non-null object\n",
      "MiscVal          1460 non-null int64\n",
      "MoSold           1460 non-null int64\n",
      "YrSold           1460 non-null int64\n",
      "SaleType         1460 non-null object\n",
      "SaleCondition    1460 non-null object\n",
      "SalePrice        1460 non-null int64\n",
      "dtypes: float64(3), int64(35), object(43)\n",
      "memory usage: 924.0+ KB\n"
     ]
    }
   ],
   "source": [
    "df.info()"
   ]
  },
  {
   "cell_type": "code",
   "execution_count": 5,
   "metadata": {},
   "outputs": [
    {
     "data": {
      "text/plain": [
       "Index(['Id', 'MSSubClass', 'MSZoning', 'LotFrontage', 'LotArea', 'Street',\n",
       "       'Alley', 'LotShape', 'LandContour', 'Utilities', 'LotConfig',\n",
       "       'LandSlope', 'Neighborhood', 'Condition1', 'Condition2', 'BldgType',\n",
       "       'HouseStyle', 'OverallQual', 'OverallCond', 'YearBuilt', 'YearRemodAdd',\n",
       "       'RoofStyle', 'RoofMatl', 'Exterior1st', 'Exterior2nd', 'MasVnrType',\n",
       "       'MasVnrArea', 'ExterQual', 'ExterCond', 'Foundation', 'BsmtQual',\n",
       "       'BsmtCond', 'BsmtExposure', 'BsmtFinType1', 'BsmtFinSF1',\n",
       "       'BsmtFinType2', 'BsmtFinSF2', 'BsmtUnfSF', 'TotalBsmtSF', 'Heating',\n",
       "       'HeatingQC', 'CentralAir', 'Electrical', '1stFlrSF', '2ndFlrSF',\n",
       "       'LowQualFinSF', 'GrLivArea', 'BsmtFullBath', 'BsmtHalfBath', 'FullBath',\n",
       "       'HalfBath', 'BedroomAbvGr', 'KitchenAbvGr', 'KitchenQual',\n",
       "       'TotRmsAbvGrd', 'Functional', 'Fireplaces', 'FireplaceQu', 'GarageType',\n",
       "       'GarageYrBlt', 'GarageFinish', 'GarageCars', 'GarageArea', 'GarageQual',\n",
       "       'GarageCond', 'PavedDrive', 'WoodDeckSF', 'OpenPorchSF',\n",
       "       'EnclosedPorch', '3SsnPorch', 'ScreenPorch', 'PoolArea', 'PoolQC',\n",
       "       'Fence', 'MiscFeature', 'MiscVal', 'MoSold', 'YrSold', 'SaleType',\n",
       "       'SaleCondition', 'SalePrice'],\n",
       "      dtype='object')"
      ]
     },
     "execution_count": 5,
     "metadata": {},
     "output_type": "execute_result"
    }
   ],
   "source": [
    "df.columns"
   ]
  },
  {
   "cell_type": "code",
   "execution_count": 6,
   "metadata": {},
   "outputs": [
    {
     "data": {
      "text/html": [
       "<div>\n",
       "<style scoped>\n",
       "    .dataframe tbody tr th:only-of-type {\n",
       "        vertical-align: middle;\n",
       "    }\n",
       "\n",
       "    .dataframe tbody tr th {\n",
       "        vertical-align: top;\n",
       "    }\n",
       "\n",
       "    .dataframe thead th {\n",
       "        text-align: right;\n",
       "    }\n",
       "</style>\n",
       "<table border=\"1\" class=\"dataframe\">\n",
       "  <thead>\n",
       "    <tr style=\"text-align: right;\">\n",
       "      <th></th>\n",
       "      <th>Id</th>\n",
       "      <th>MSSubClass</th>\n",
       "      <th>LotFrontage</th>\n",
       "      <th>LotArea</th>\n",
       "      <th>OverallQual</th>\n",
       "      <th>OverallCond</th>\n",
       "      <th>YearBuilt</th>\n",
       "      <th>YearRemodAdd</th>\n",
       "      <th>MasVnrArea</th>\n",
       "      <th>BsmtFinSF1</th>\n",
       "      <th>...</th>\n",
       "      <th>WoodDeckSF</th>\n",
       "      <th>OpenPorchSF</th>\n",
       "      <th>EnclosedPorch</th>\n",
       "      <th>3SsnPorch</th>\n",
       "      <th>ScreenPorch</th>\n",
       "      <th>PoolArea</th>\n",
       "      <th>MiscVal</th>\n",
       "      <th>MoSold</th>\n",
       "      <th>YrSold</th>\n",
       "      <th>SalePrice</th>\n",
       "    </tr>\n",
       "  </thead>\n",
       "  <tbody>\n",
       "    <tr>\n",
       "      <th>count</th>\n",
       "      <td>1460.000000</td>\n",
       "      <td>1460.000000</td>\n",
       "      <td>1201.000000</td>\n",
       "      <td>1460.000000</td>\n",
       "      <td>1460.000000</td>\n",
       "      <td>1460.000000</td>\n",
       "      <td>1460.000000</td>\n",
       "      <td>1460.000000</td>\n",
       "      <td>1452.000000</td>\n",
       "      <td>1460.000000</td>\n",
       "      <td>...</td>\n",
       "      <td>1460.000000</td>\n",
       "      <td>1460.000000</td>\n",
       "      <td>1460.000000</td>\n",
       "      <td>1460.000000</td>\n",
       "      <td>1460.000000</td>\n",
       "      <td>1460.000000</td>\n",
       "      <td>1460.000000</td>\n",
       "      <td>1460.000000</td>\n",
       "      <td>1460.000000</td>\n",
       "      <td>1460.000000</td>\n",
       "    </tr>\n",
       "    <tr>\n",
       "      <th>mean</th>\n",
       "      <td>730.500000</td>\n",
       "      <td>56.897260</td>\n",
       "      <td>70.049958</td>\n",
       "      <td>10516.828082</td>\n",
       "      <td>6.099315</td>\n",
       "      <td>5.575342</td>\n",
       "      <td>1971.267808</td>\n",
       "      <td>1984.865753</td>\n",
       "      <td>103.685262</td>\n",
       "      <td>443.639726</td>\n",
       "      <td>...</td>\n",
       "      <td>94.244521</td>\n",
       "      <td>46.660274</td>\n",
       "      <td>21.954110</td>\n",
       "      <td>3.409589</td>\n",
       "      <td>15.060959</td>\n",
       "      <td>2.758904</td>\n",
       "      <td>43.489041</td>\n",
       "      <td>6.321918</td>\n",
       "      <td>2007.815753</td>\n",
       "      <td>180921.195890</td>\n",
       "    </tr>\n",
       "    <tr>\n",
       "      <th>std</th>\n",
       "      <td>421.610009</td>\n",
       "      <td>42.300571</td>\n",
       "      <td>24.284752</td>\n",
       "      <td>9981.264932</td>\n",
       "      <td>1.382997</td>\n",
       "      <td>1.112799</td>\n",
       "      <td>30.202904</td>\n",
       "      <td>20.645407</td>\n",
       "      <td>181.066207</td>\n",
       "      <td>456.098091</td>\n",
       "      <td>...</td>\n",
       "      <td>125.338794</td>\n",
       "      <td>66.256028</td>\n",
       "      <td>61.119149</td>\n",
       "      <td>29.317331</td>\n",
       "      <td>55.757415</td>\n",
       "      <td>40.177307</td>\n",
       "      <td>496.123024</td>\n",
       "      <td>2.703626</td>\n",
       "      <td>1.328095</td>\n",
       "      <td>79442.502883</td>\n",
       "    </tr>\n",
       "    <tr>\n",
       "      <th>min</th>\n",
       "      <td>1.000000</td>\n",
       "      <td>20.000000</td>\n",
       "      <td>21.000000</td>\n",
       "      <td>1300.000000</td>\n",
       "      <td>1.000000</td>\n",
       "      <td>1.000000</td>\n",
       "      <td>1872.000000</td>\n",
       "      <td>1950.000000</td>\n",
       "      <td>0.000000</td>\n",
       "      <td>0.000000</td>\n",
       "      <td>...</td>\n",
       "      <td>0.000000</td>\n",
       "      <td>0.000000</td>\n",
       "      <td>0.000000</td>\n",
       "      <td>0.000000</td>\n",
       "      <td>0.000000</td>\n",
       "      <td>0.000000</td>\n",
       "      <td>0.000000</td>\n",
       "      <td>1.000000</td>\n",
       "      <td>2006.000000</td>\n",
       "      <td>34900.000000</td>\n",
       "    </tr>\n",
       "    <tr>\n",
       "      <th>25%</th>\n",
       "      <td>365.750000</td>\n",
       "      <td>20.000000</td>\n",
       "      <td>59.000000</td>\n",
       "      <td>7553.500000</td>\n",
       "      <td>5.000000</td>\n",
       "      <td>5.000000</td>\n",
       "      <td>1954.000000</td>\n",
       "      <td>1967.000000</td>\n",
       "      <td>0.000000</td>\n",
       "      <td>0.000000</td>\n",
       "      <td>...</td>\n",
       "      <td>0.000000</td>\n",
       "      <td>0.000000</td>\n",
       "      <td>0.000000</td>\n",
       "      <td>0.000000</td>\n",
       "      <td>0.000000</td>\n",
       "      <td>0.000000</td>\n",
       "      <td>0.000000</td>\n",
       "      <td>5.000000</td>\n",
       "      <td>2007.000000</td>\n",
       "      <td>129975.000000</td>\n",
       "    </tr>\n",
       "    <tr>\n",
       "      <th>50%</th>\n",
       "      <td>730.500000</td>\n",
       "      <td>50.000000</td>\n",
       "      <td>69.000000</td>\n",
       "      <td>9478.500000</td>\n",
       "      <td>6.000000</td>\n",
       "      <td>5.000000</td>\n",
       "      <td>1973.000000</td>\n",
       "      <td>1994.000000</td>\n",
       "      <td>0.000000</td>\n",
       "      <td>383.500000</td>\n",
       "      <td>...</td>\n",
       "      <td>0.000000</td>\n",
       "      <td>25.000000</td>\n",
       "      <td>0.000000</td>\n",
       "      <td>0.000000</td>\n",
       "      <td>0.000000</td>\n",
       "      <td>0.000000</td>\n",
       "      <td>0.000000</td>\n",
       "      <td>6.000000</td>\n",
       "      <td>2008.000000</td>\n",
       "      <td>163000.000000</td>\n",
       "    </tr>\n",
       "    <tr>\n",
       "      <th>75%</th>\n",
       "      <td>1095.250000</td>\n",
       "      <td>70.000000</td>\n",
       "      <td>80.000000</td>\n",
       "      <td>11601.500000</td>\n",
       "      <td>7.000000</td>\n",
       "      <td>6.000000</td>\n",
       "      <td>2000.000000</td>\n",
       "      <td>2004.000000</td>\n",
       "      <td>166.000000</td>\n",
       "      <td>712.250000</td>\n",
       "      <td>...</td>\n",
       "      <td>168.000000</td>\n",
       "      <td>68.000000</td>\n",
       "      <td>0.000000</td>\n",
       "      <td>0.000000</td>\n",
       "      <td>0.000000</td>\n",
       "      <td>0.000000</td>\n",
       "      <td>0.000000</td>\n",
       "      <td>8.000000</td>\n",
       "      <td>2009.000000</td>\n",
       "      <td>214000.000000</td>\n",
       "    </tr>\n",
       "    <tr>\n",
       "      <th>max</th>\n",
       "      <td>1460.000000</td>\n",
       "      <td>190.000000</td>\n",
       "      <td>313.000000</td>\n",
       "      <td>215245.000000</td>\n",
       "      <td>10.000000</td>\n",
       "      <td>9.000000</td>\n",
       "      <td>2010.000000</td>\n",
       "      <td>2010.000000</td>\n",
       "      <td>1600.000000</td>\n",
       "      <td>5644.000000</td>\n",
       "      <td>...</td>\n",
       "      <td>857.000000</td>\n",
       "      <td>547.000000</td>\n",
       "      <td>552.000000</td>\n",
       "      <td>508.000000</td>\n",
       "      <td>480.000000</td>\n",
       "      <td>738.000000</td>\n",
       "      <td>15500.000000</td>\n",
       "      <td>12.000000</td>\n",
       "      <td>2010.000000</td>\n",
       "      <td>755000.000000</td>\n",
       "    </tr>\n",
       "  </tbody>\n",
       "</table>\n",
       "<p>8 rows × 38 columns</p>\n",
       "</div>"
      ],
      "text/plain": [
       "                Id   MSSubClass  LotFrontage        LotArea  OverallQual  \\\n",
       "count  1460.000000  1460.000000  1201.000000    1460.000000  1460.000000   \n",
       "mean    730.500000    56.897260    70.049958   10516.828082     6.099315   \n",
       "std     421.610009    42.300571    24.284752    9981.264932     1.382997   \n",
       "min       1.000000    20.000000    21.000000    1300.000000     1.000000   \n",
       "25%     365.750000    20.000000    59.000000    7553.500000     5.000000   \n",
       "50%     730.500000    50.000000    69.000000    9478.500000     6.000000   \n",
       "75%    1095.250000    70.000000    80.000000   11601.500000     7.000000   \n",
       "max    1460.000000   190.000000   313.000000  215245.000000    10.000000   \n",
       "\n",
       "       OverallCond    YearBuilt  YearRemodAdd   MasVnrArea   BsmtFinSF1  \\\n",
       "count  1460.000000  1460.000000   1460.000000  1452.000000  1460.000000   \n",
       "mean      5.575342  1971.267808   1984.865753   103.685262   443.639726   \n",
       "std       1.112799    30.202904     20.645407   181.066207   456.098091   \n",
       "min       1.000000  1872.000000   1950.000000     0.000000     0.000000   \n",
       "25%       5.000000  1954.000000   1967.000000     0.000000     0.000000   \n",
       "50%       5.000000  1973.000000   1994.000000     0.000000   383.500000   \n",
       "75%       6.000000  2000.000000   2004.000000   166.000000   712.250000   \n",
       "max       9.000000  2010.000000   2010.000000  1600.000000  5644.000000   \n",
       "\n",
       "           ...         WoodDeckSF  OpenPorchSF  EnclosedPorch    3SsnPorch  \\\n",
       "count      ...        1460.000000  1460.000000    1460.000000  1460.000000   \n",
       "mean       ...          94.244521    46.660274      21.954110     3.409589   \n",
       "std        ...         125.338794    66.256028      61.119149    29.317331   \n",
       "min        ...           0.000000     0.000000       0.000000     0.000000   \n",
       "25%        ...           0.000000     0.000000       0.000000     0.000000   \n",
       "50%        ...           0.000000    25.000000       0.000000     0.000000   \n",
       "75%        ...         168.000000    68.000000       0.000000     0.000000   \n",
       "max        ...         857.000000   547.000000     552.000000   508.000000   \n",
       "\n",
       "       ScreenPorch     PoolArea       MiscVal       MoSold       YrSold  \\\n",
       "count  1460.000000  1460.000000   1460.000000  1460.000000  1460.000000   \n",
       "mean     15.060959     2.758904     43.489041     6.321918  2007.815753   \n",
       "std      55.757415    40.177307    496.123024     2.703626     1.328095   \n",
       "min       0.000000     0.000000      0.000000     1.000000  2006.000000   \n",
       "25%       0.000000     0.000000      0.000000     5.000000  2007.000000   \n",
       "50%       0.000000     0.000000      0.000000     6.000000  2008.000000   \n",
       "75%       0.000000     0.000000      0.000000     8.000000  2009.000000   \n",
       "max     480.000000   738.000000  15500.000000    12.000000  2010.000000   \n",
       "\n",
       "           SalePrice  \n",
       "count    1460.000000  \n",
       "mean   180921.195890  \n",
       "std     79442.502883  \n",
       "min     34900.000000  \n",
       "25%    129975.000000  \n",
       "50%    163000.000000  \n",
       "75%    214000.000000  \n",
       "max    755000.000000  \n",
       "\n",
       "[8 rows x 38 columns]"
      ]
     },
     "execution_count": 6,
     "metadata": {},
     "output_type": "execute_result"
    }
   ],
   "source": [
    "df.describe()"
   ]
  },
  {
   "cell_type": "code",
   "execution_count": 7,
   "metadata": {
    "scrolled": true
   },
   "outputs": [
    {
     "name": "stdout",
     "output_type": "stream",
     "text": [
      "<class 'pandas.core.frame.DataFrame'>\n",
      "RangeIndex: 1460 entries, 0 to 1459\n",
      "Data columns (total 62 columns):\n",
      "Id               1460 non-null int64\n",
      "MSSubClass       1460 non-null int64\n",
      "MSZoning         1460 non-null object\n",
      "LotArea          1460 non-null int64\n",
      "Street           1460 non-null object\n",
      "LotShape         1460 non-null object\n",
      "LandContour      1460 non-null object\n",
      "Utilities        1460 non-null object\n",
      "LotConfig        1460 non-null object\n",
      "LandSlope        1460 non-null object\n",
      "Neighborhood     1460 non-null object\n",
      "Condition1       1460 non-null object\n",
      "Condition2       1460 non-null object\n",
      "BldgType         1460 non-null object\n",
      "HouseStyle       1460 non-null object\n",
      "OverallQual      1460 non-null int64\n",
      "OverallCond      1460 non-null int64\n",
      "YearBuilt        1460 non-null int64\n",
      "YearRemodAdd     1460 non-null int64\n",
      "RoofStyle        1460 non-null object\n",
      "RoofMatl         1460 non-null object\n",
      "Exterior1st      1460 non-null object\n",
      "Exterior2nd      1460 non-null object\n",
      "ExterQual        1460 non-null object\n",
      "ExterCond        1460 non-null object\n",
      "Foundation       1460 non-null object\n",
      "BsmtFinSF1       1460 non-null int64\n",
      "BsmtFinSF2       1460 non-null int64\n",
      "BsmtUnfSF        1460 non-null int64\n",
      "TotalBsmtSF      1460 non-null int64\n",
      "Heating          1460 non-null object\n",
      "HeatingQC        1460 non-null object\n",
      "CentralAir       1460 non-null object\n",
      "1stFlrSF         1460 non-null int64\n",
      "2ndFlrSF         1460 non-null int64\n",
      "LowQualFinSF     1460 non-null int64\n",
      "GrLivArea        1460 non-null int64\n",
      "BsmtFullBath     1460 non-null int64\n",
      "BsmtHalfBath     1460 non-null int64\n",
      "FullBath         1460 non-null int64\n",
      "HalfBath         1460 non-null int64\n",
      "BedroomAbvGr     1460 non-null int64\n",
      "KitchenAbvGr     1460 non-null int64\n",
      "KitchenQual      1460 non-null object\n",
      "TotRmsAbvGrd     1460 non-null int64\n",
      "Functional       1460 non-null object\n",
      "Fireplaces       1460 non-null int64\n",
      "GarageCars       1460 non-null int64\n",
      "GarageArea       1460 non-null int64\n",
      "PavedDrive       1460 non-null object\n",
      "WoodDeckSF       1460 non-null int64\n",
      "OpenPorchSF      1460 non-null int64\n",
      "EnclosedPorch    1460 non-null int64\n",
      "3SsnPorch        1460 non-null int64\n",
      "ScreenPorch      1460 non-null int64\n",
      "PoolArea         1460 non-null int64\n",
      "MiscVal          1460 non-null int64\n",
      "MoSold           1460 non-null int64\n",
      "YrSold           1460 non-null int64\n",
      "SaleType         1460 non-null object\n",
      "SaleCondition    1460 non-null object\n",
      "SalePrice        1460 non-null int64\n",
      "dtypes: int64(35), object(27)\n",
      "memory usage: 707.3+ KB\n"
     ]
    }
   ],
   "source": [
    "# For now, I will just simply remove all the columns with any missing values from the dataframe\n",
    "df.dropna(axis = 1, inplace=True)\n",
    "df.info()\n"
   ]
  },
  {
   "cell_type": "code",
   "execution_count": 8,
   "metadata": {},
   "outputs": [],
   "source": [
    "# notice that many of the columns have datatype 'object', which means they are strings.  No machine learning models\n",
    "# accept strings.  We can either drop them from our model, or find a way to convert them to numbers while retaining the\n",
    "# information they contain.  The usual way to do this is to convert them to dummy variables"
   ]
  },
  {
   "cell_type": "code",
   "execution_count": 9,
   "metadata": {},
   "outputs": [],
   "source": [
    "# for now, i'll just drop all the non-numeric columns for simplicity\n",
    "df = df.select_dtypes(exclude='object')"
   ]
  },
  {
   "cell_type": "code",
   "execution_count": 10,
   "metadata": {
    "scrolled": true
   },
   "outputs": [
    {
     "name": "stdout",
     "output_type": "stream",
     "text": [
      "<class 'pandas.core.frame.DataFrame'>\n",
      "RangeIndex: 1460 entries, 0 to 1459\n",
      "Data columns (total 35 columns):\n",
      "Id               1460 non-null int64\n",
      "MSSubClass       1460 non-null int64\n",
      "LotArea          1460 non-null int64\n",
      "OverallQual      1460 non-null int64\n",
      "OverallCond      1460 non-null int64\n",
      "YearBuilt        1460 non-null int64\n",
      "YearRemodAdd     1460 non-null int64\n",
      "BsmtFinSF1       1460 non-null int64\n",
      "BsmtFinSF2       1460 non-null int64\n",
      "BsmtUnfSF        1460 non-null int64\n",
      "TotalBsmtSF      1460 non-null int64\n",
      "1stFlrSF         1460 non-null int64\n",
      "2ndFlrSF         1460 non-null int64\n",
      "LowQualFinSF     1460 non-null int64\n",
      "GrLivArea        1460 non-null int64\n",
      "BsmtFullBath     1460 non-null int64\n",
      "BsmtHalfBath     1460 non-null int64\n",
      "FullBath         1460 non-null int64\n",
      "HalfBath         1460 non-null int64\n",
      "BedroomAbvGr     1460 non-null int64\n",
      "KitchenAbvGr     1460 non-null int64\n",
      "TotRmsAbvGrd     1460 non-null int64\n",
      "Fireplaces       1460 non-null int64\n",
      "GarageCars       1460 non-null int64\n",
      "GarageArea       1460 non-null int64\n",
      "WoodDeckSF       1460 non-null int64\n",
      "OpenPorchSF      1460 non-null int64\n",
      "EnclosedPorch    1460 non-null int64\n",
      "3SsnPorch        1460 non-null int64\n",
      "ScreenPorch      1460 non-null int64\n",
      "PoolArea         1460 non-null int64\n",
      "MiscVal          1460 non-null int64\n",
      "MoSold           1460 non-null int64\n",
      "YrSold           1460 non-null int64\n",
      "SalePrice        1460 non-null int64\n",
      "dtypes: int64(35)\n",
      "memory usage: 399.3 KB\n"
     ]
    }
   ],
   "source": [
    "# confirming all the object columns have been dropped\n",
    "df.info()"
   ]
  },
  {
   "cell_type": "code",
   "execution_count": 11,
   "metadata": {
    "scrolled": true
   },
   "outputs": [
    {
     "data": {
      "text/plain": [
       "OverallQual     0.790982\n",
       "GrLivArea       0.708624\n",
       "GarageCars      0.640409\n",
       "GarageArea      0.623431\n",
       "TotalBsmtSF     0.613581\n",
       "1stFlrSF        0.605852\n",
       "FullBath        0.560664\n",
       "TotRmsAbvGrd    0.533723\n",
       "YearBuilt       0.522897\n",
       "dtype: float64"
      ]
     },
     "execution_count": 11,
     "metadata": {},
     "output_type": "execute_result"
    }
   ],
   "source": [
    "y = df['SalePrice']\n",
    "df.corrwith(y).sort_values(ascending = False)[1:10]\n"
   ]
  },
  {
   "cell_type": "code",
   "execution_count": 12,
   "metadata": {},
   "outputs": [],
   "source": [
    "columns = pd.DataFrame(df.corrwith(y).sort_values(ascending = False)[1:10]).index"
   ]
  },
  {
   "cell_type": "code",
   "execution_count": 13,
   "metadata": {},
   "outputs": [],
   "source": [
    "# importing linear regression from sklearn\n",
    "from sklearn.linear_model import LinearRegression\n",
    "from sklearn.metrics import mean_squared_error"
   ]
  },
  {
   "cell_type": "code",
   "execution_count": 14,
   "metadata": {},
   "outputs": [],
   "source": [
    "lm = LinearRegression()\n",
    "X = df[columns]\n",
    "lm.fit(X, y)\n",
    "y_pred = lm.predict(X)"
   ]
  },
  {
   "cell_type": "code",
   "execution_count": 15,
   "metadata": {},
   "outputs": [
    {
     "name": "stdout",
     "output_type": "stream",
     "text": [
      "R2 score is:  0.770302545034713\n",
      "RMSE is:  38061.17821427572\n"
     ]
    }
   ],
   "source": [
    "print(\"R2 score is: \", lm.score(X, y))\n",
    "print(\"RMSE is: \", np.sqrt(mean_squared_error(lm.predict(X), y)))"
   ]
  },
  {
   "cell_type": "markdown",
   "metadata": {},
   "source": [
    "An R2 score of .73 for a linear regression is not very good.  More intuitively, if we examine the RMSE our model achieved: 41164, we see that on average, our model incorrectly predicted a price difference of +- $41,164 dollars! What are some things we did wrong? "
   ]
  },
  {
   "cell_type": "code",
   "execution_count": 16,
   "metadata": {},
   "outputs": [],
   "source": [
    "# performing eda\n",
    "\n",
    "# Standardizing the data\n",
    "\n",
    "# transforming the data\n",
    "\n",
    "# using cross validation on the data\n",
    "\n",
    "# using qualitative data(dummy variables)\n",
    "\n",
    "# accounting for collinearity\n",
    "\n"
   ]
  },
  {
   "cell_type": "markdown",
   "metadata": {},
   "source": [
    "## remember the 5 assumptions of multiple linear regression:\n",
    "\n",
    "---\n",
    "\n",
    "1. **Linearity:** $Y$ must have an approximately linear relationship with each independent $X_k$.\n",
    "2. **Independence of Errors:** Errors (residuals) $\\varepsilon_i$ and $\\varepsilon_j$ must be independent of one another for any $i \\ne j$.\n",
    "3. **Normality:** The errors (residuals) follow a Normal distribution with mean 0.\n",
    "4. **Equality of Variances**: The errors (residuals) should have a roughly consistent pattern, regardless of the value of the $X_i$ predictors. (There should be no discernable relationship between the $X$ predictors and the residuals.)\n",
    "5. **Independence of Predictors**: The independent variables $X_k$ and $X_l$ must be independent of one another for any $k \\ne l$."
   ]
  },
  {
   "cell_type": "code",
   "execution_count": 17,
   "metadata": {},
   "outputs": [
    {
     "data": {
      "text/plain": [
       "<matplotlib.lines.Line2D at 0x1a1960f6d8>"
      ]
     },
     "execution_count": 17,
     "metadata": {},
     "output_type": "execute_result"
    },
    {
     "data": {
      "image/png": "[encoded data removed]",
      "text/plain": [
       "<Figure size 432x288 with 1 Axes>"
      ]
     },
     "metadata": {
      "needs_background": "light"
     },
     "output_type": "display_data"
    }
   ],
   "source": [
    "plt.scatter(y_pred, y-y_pred)\n",
    "plt.xlim(0, 420000)\n",
    "plt.axhline(y=0, color='k',linestyle = '--')"
   ]
  },
  {
   "cell_type": "code",
   "execution_count": 18,
   "metadata": {},
   "outputs": [],
   "source": [
    "# let's do it all again\n",
    "df = pd.read_csv('./ames_housing_train.csv')"
   ]
  },
  {
   "cell_type": "code",
   "execution_count": 19,
   "metadata": {
    "scrolled": true
   },
   "outputs": [
    {
     "name": "stdout",
     "output_type": "stream",
     "text": [
      "<class 'pandas.core.frame.DataFrame'>\n",
      "RangeIndex: 1460 entries, 0 to 1459\n",
      "Data columns (total 81 columns):\n",
      "Id               1460 non-null int64\n",
      "MSSubClass       1460 non-null int64\n",
      "MSZoning         1460 non-null object\n",
      "LotFrontage      1201 non-null float64\n",
      "LotArea          1460 non-null int64\n",
      "Street           1460 non-null object\n",
      "Alley            91 non-null object\n",
      "LotShape         1460 non-null object\n",
      "LandContour      1460 non-null object\n",
      "Utilities        1460 non-null object\n",
      "LotConfig        1460 non-null object\n",
      "LandSlope        1460 non-null object\n",
      "Neighborhood     1460 non-null object\n",
      "Condition1       1460 non-null object\n",
      "Condition2       1460 non-null object\n",
      "BldgType         1460 non-null object\n",
      "HouseStyle       1460 non-null object\n",
      "OverallQual      1460 non-null int64\n",
      "OverallCond      1460 non-null int64\n",
      "YearBuilt        1460 non-null int64\n",
      "YearRemodAdd     1460 non-null int64\n",
      "RoofStyle        1460 non-null object\n",
      "RoofMatl         1460 non-null object\n",
      "Exterior1st      1460 non-null object\n",
      "Exterior2nd      1460 non-null object\n",
      "MasVnrType       1452 non-null object\n",
      "MasVnrArea       1452 non-null float64\n",
      "ExterQual        1460 non-null object\n",
      "ExterCond        1460 non-null object\n",
      "Foundation       1460 non-null object\n",
      "BsmtQual         1423 non-null object\n",
      "BsmtCond         1423 non-null object\n",
      "BsmtExposure     1422 non-null object\n",
      "BsmtFinType1     1423 non-null object\n",
      "BsmtFinSF1       1460 non-null int64\n",
      "BsmtFinType2     1422 non-null object\n",
      "BsmtFinSF2       1460 non-null int64\n",
      "BsmtUnfSF        1460 non-null int64\n",
      "TotalBsmtSF      1460 non-null int64\n",
      "Heating          1460 non-null object\n",
      "HeatingQC        1460 non-null object\n",
      "CentralAir       1460 non-null object\n",
      "Electrical       1459 non-null object\n",
      "1stFlrSF         1460 non-null int64\n",
      "2ndFlrSF         1460 non-null int64\n",
      "LowQualFinSF     1460 non-null int64\n",
      "GrLivArea        1460 non-null int64\n",
      "BsmtFullBath     1460 non-null int64\n",
      "BsmtHalfBath     1460 non-null int64\n",
      "FullBath         1460 non-null int64\n",
      "HalfBath         1460 non-null int64\n",
      "BedroomAbvGr     1460 non-null int64\n",
      "KitchenAbvGr     1460 non-null int64\n",
      "KitchenQual      1460 non-null object\n",
      "TotRmsAbvGrd     1460 non-null int64\n",
      "Functional       1460 non-null object\n",
      "Fireplaces       1460 non-null int64\n",
      "FireplaceQu      770 non-null object\n",
      "GarageType       1379 non-null object\n",
      "GarageYrBlt      1379 non-null float64\n",
      "GarageFinish     1379 non-null object\n",
      "GarageCars       1460 non-null int64\n",
      "GarageArea       1460 non-null int64\n",
      "GarageQual       1379 non-null object\n",
      "GarageCond       1379 non-null object\n",
      "PavedDrive       1460 non-null object\n",
      "WoodDeckSF       1460 non-null int64\n",
      "OpenPorchSF      1460 non-null int64\n",
      "EnclosedPorch    1460 non-null int64\n",
      "3SsnPorch        1460 non-null int64\n",
      "ScreenPorch      1460 non-null int64\n",
      "PoolArea         1460 non-null int64\n",
      "PoolQC           7 non-null object\n",
      "Fence            281 non-null object\n",
      "MiscFeature      54 non-null object\n",
      "MiscVal          1460 non-null int64\n",
      "MoSold           1460 non-null int64\n",
      "YrSold           1460 non-null int64\n",
      "SaleType         1460 non-null object\n",
      "SaleCondition    1460 non-null object\n",
      "SalePrice        1460 non-null int64\n",
      "dtypes: float64(3), int64(35), object(43)\n",
      "memory usage: 924.0+ KB\n"
     ]
    }
   ],
   "source": [
    "df.info()"
   ]
  },
  {
   "cell_type": "code",
   "execution_count": 20,
   "metadata": {},
   "outputs": [],
   "source": [
    "df.drop(columns = ['Alley', 'PoolQC', 'Fence', 'MiscFeature', 'FireplaceQu', 'Id'], axis = 1, inplace = True)"
   ]
  },
  {
   "cell_type": "code",
   "execution_count": 21,
   "metadata": {
    "scrolled": true
   },
   "outputs": [
    {
     "name": "stdout",
     "output_type": "stream",
     "text": [
      "<class 'pandas.core.frame.DataFrame'>\n",
      "RangeIndex: 1460 entries, 0 to 1459\n",
      "Data columns (total 75 columns):\n",
      "MSSubClass       1460 non-null int64\n",
      "MSZoning         1460 non-null object\n",
      "LotFrontage      1201 non-null float64\n",
      "LotArea          1460 non-null int64\n",
      "Street           1460 non-null object\n",
      "LotShape         1460 non-null object\n",
      "LandContour      1460 non-null object\n",
      "Utilities        1460 non-null object\n",
      "LotConfig        1460 non-null object\n",
      "LandSlope        1460 non-null object\n",
      "Neighborhood     1460 non-null object\n",
      "Condition1       1460 non-null object\n",
      "Condition2       1460 non-null object\n",
      "BldgType         1460 non-null object\n",
      "HouseStyle       1460 non-null object\n",
      "OverallQual      1460 non-null int64\n",
      "OverallCond      1460 non-null int64\n",
      "YearBuilt        1460 non-null int64\n",
      "YearRemodAdd     1460 non-null int64\n",
      "RoofStyle        1460 non-null object\n",
      "RoofMatl         1460 non-null object\n",
      "Exterior1st      1460 non-null object\n",
      "Exterior2nd      1460 non-null object\n",
      "MasVnrType       1452 non-null object\n",
      "MasVnrArea       1452 non-null float64\n",
      "ExterQual        1460 non-null object\n",
      "ExterCond        1460 non-null object\n",
      "Foundation       1460 non-null object\n",
      "BsmtQual         1423 non-null object\n",
      "BsmtCond         1423 non-null object\n",
      "BsmtExposure     1422 non-null object\n",
      "BsmtFinType1     1423 non-null object\n",
      "BsmtFinSF1       1460 non-null int64\n",
      "BsmtFinType2     1422 non-null object\n",
      "BsmtFinSF2       1460 non-null int64\n",
      "BsmtUnfSF        1460 non-null int64\n",
      "TotalBsmtSF      1460 non-null int64\n",
      "Heating          1460 non-null object\n",
      "HeatingQC        1460 non-null object\n",
      "CentralAir       1460 non-null object\n",
      "Electrical       1459 non-null object\n",
      "1stFlrSF         1460 non-null int64\n",
      "2ndFlrSF         1460 non-null int64\n",
      "LowQualFinSF     1460 non-null int64\n",
      "GrLivArea        1460 non-null int64\n",
      "BsmtFullBath     1460 non-null int64\n",
      "BsmtHalfBath     1460 non-null int64\n",
      "FullBath         1460 non-null int64\n",
      "HalfBath         1460 non-null int64\n",
      "BedroomAbvGr     1460 non-null int64\n",
      "KitchenAbvGr     1460 non-null int64\n",
      "KitchenQual      1460 non-null object\n",
      "TotRmsAbvGrd     1460 non-null int64\n",
      "Functional       1460 non-null object\n",
      "Fireplaces       1460 non-null int64\n",
      "GarageType       1379 non-null object\n",
      "GarageYrBlt      1379 non-null float64\n",
      "GarageFinish     1379 non-null object\n",
      "GarageCars       1460 non-null int64\n",
      "GarageArea       1460 non-null int64\n",
      "GarageQual       1379 non-null object\n",
      "GarageCond       1379 non-null object\n",
      "PavedDrive       1460 non-null object\n",
      "WoodDeckSF       1460 non-null int64\n",
      "OpenPorchSF      1460 non-null int64\n",
      "EnclosedPorch    1460 non-null int64\n",
      "3SsnPorch        1460 non-null int64\n",
      "ScreenPorch      1460 non-null int64\n",
      "PoolArea         1460 non-null int64\n",
      "MiscVal          1460 non-null int64\n",
      "MoSold           1460 non-null int64\n",
      "YrSold           1460 non-null int64\n",
      "SaleType         1460 non-null object\n",
      "SaleCondition    1460 non-null object\n",
      "SalePrice        1460 non-null int64\n",
      "dtypes: float64(3), int64(34), object(38)\n",
      "memory usage: 855.5+ KB\n"
     ]
    }
   ],
   "source": [
    "df.info()"
   ]
  },
  {
   "cell_type": "code",
   "execution_count": 22,
   "metadata": {
    "scrolled": true
   },
   "outputs": [
    {
     "data": {
      "text/plain": [
       "0        65.0\n",
       "1        80.0\n",
       "2        68.0\n",
       "3        60.0\n",
       "4        84.0\n",
       "5        85.0\n",
       "6        75.0\n",
       "7         NaN\n",
       "8        51.0\n",
       "9        50.0\n",
       "10       70.0\n",
       "11       85.0\n",
       "12        NaN\n",
       "13       91.0\n",
       "14        NaN\n",
       "15       51.0\n",
       "16        NaN\n",
       "17       72.0\n",
       "18       66.0\n",
       "19       70.0\n",
       "20      101.0\n",
       "21       57.0\n",
       "22       75.0\n",
       "23       44.0\n",
       "24        NaN\n",
       "25      110.0\n",
       "26       60.0\n",
       "27       98.0\n",
       "28       47.0\n",
       "29       60.0\n",
       "        ...  \n",
       "1430     60.0\n",
       "1431      NaN\n",
       "1432     60.0\n",
       "1433     93.0\n",
       "1434     80.0\n",
       "1435     80.0\n",
       "1436     60.0\n",
       "1437     96.0\n",
       "1438     90.0\n",
       "1439     80.0\n",
       "1440     79.0\n",
       "1441      NaN\n",
       "1442     85.0\n",
       "1443      NaN\n",
       "1444     63.0\n",
       "1445     70.0\n",
       "1446      NaN\n",
       "1447     80.0\n",
       "1448     70.0\n",
       "1449     21.0\n",
       "1450     60.0\n",
       "1451     78.0\n",
       "1452     35.0\n",
       "1453     90.0\n",
       "1454     62.0\n",
       "1455     62.0\n",
       "1456     85.0\n",
       "1457     66.0\n",
       "1458     68.0\n",
       "1459     75.0\n",
       "Name: LotFrontage, Length: 1460, dtype: float64"
      ]
     },
     "execution_count": 22,
     "metadata": {},
     "output_type": "execute_result"
    }
   ],
   "source": [
    "df['LotFrontage']"
   ]
  },
  {
   "cell_type": "code",
   "execution_count": 23,
   "metadata": {},
   "outputs": [],
   "source": [
    "df['LotFrontage'] = df['LotFrontage'].fillna(df['LotFrontage'].median())"
   ]
  },
  {
   "cell_type": "code",
   "execution_count": 24,
   "metadata": {},
   "outputs": [
    {
     "data": {
      "text/plain": [
       "<matplotlib.axes._subplots.AxesSubplot at 0x1a1a694668>"
      ]
     },
     "execution_count": 24,
     "metadata": {},
     "output_type": "execute_result"
    },
    {
     "data": {
      "image/png": "[encoded data removed]",
      "text/plain": [
       "<Figure size 432x288 with 1 Axes>"
      ]
     },
     "metadata": {
      "needs_background": "light"
     },
     "output_type": "display_data"
    }
   ],
   "source": [
    "df['LotFrontage'].hist()"
   ]
  },
  {
   "cell_type": "code",
   "execution_count": 25,
   "metadata": {
    "scrolled": true
   },
   "outputs": [],
   "source": [
    "df.dropna(inplace = True)"
   ]
  },
  {
   "cell_type": "code",
   "execution_count": 26,
   "metadata": {
    "scrolled": true
   },
   "outputs": [
    {
     "name": "stdout",
     "output_type": "stream",
     "text": [
      "<class 'pandas.core.frame.DataFrame'>\n",
      "Int64Index: 1338 entries, 0 to 1459\n",
      "Data columns (total 75 columns):\n",
      "MSSubClass       1338 non-null int64\n",
      "MSZoning         1338 non-null object\n",
      "LotFrontage      1338 non-null float64\n",
      "LotArea          1338 non-null int64\n",
      "Street           1338 non-null object\n",
      "LotShape         1338 non-null object\n",
      "LandContour      1338 non-null object\n",
      "Utilities        1338 non-null object\n",
      "LotConfig        1338 non-null object\n",
      "LandSlope        1338 non-null object\n",
      "Neighborhood     1338 non-null object\n",
      "Condition1       1338 non-null object\n",
      "Condition2       1338 non-null object\n",
      "BldgType         1338 non-null object\n",
      "HouseStyle       1338 non-null object\n",
      "OverallQual      1338 non-null int64\n",
      "OverallCond      1338 non-null int64\n",
      "YearBuilt        1338 non-null int64\n",
      "YearRemodAdd     1338 non-null int64\n",
      "RoofStyle        1338 non-null object\n",
      "RoofMatl         1338 non-null object\n",
      "Exterior1st      1338 non-null object\n",
      "Exterior2nd      1338 non-null object\n",
      "MasVnrType       1338 non-null object\n",
      "MasVnrArea       1338 non-null float64\n",
      "ExterQual        1338 non-null object\n",
      "ExterCond        1338 non-null object\n",
      "Foundation       1338 non-null object\n",
      "BsmtQual         1338 non-null object\n",
      "BsmtCond         1338 non-null object\n",
      "BsmtExposure     1338 non-null object\n",
      "BsmtFinType1     1338 non-null object\n",
      "BsmtFinSF1       1338 non-null int64\n",
      "BsmtFinType2     1338 non-null object\n",
      "BsmtFinSF2       1338 non-null int64\n",
      "BsmtUnfSF        1338 non-null int64\n",
      "TotalBsmtSF      1338 non-null int64\n",
      "Heating          1338 non-null object\n",
      "HeatingQC        1338 non-null object\n",
      "CentralAir       1338 non-null object\n",
      "Electrical       1338 non-null object\n",
      "1stFlrSF         1338 non-null int64\n",
      "2ndFlrSF         1338 non-null int64\n",
      "LowQualFinSF     1338 non-null int64\n",
      "GrLivArea        1338 non-null int64\n",
      "BsmtFullBath     1338 non-null int64\n",
      "BsmtHalfBath     1338 non-null int64\n",
      "FullBath         1338 non-null int64\n",
      "HalfBath         1338 non-null int64\n",
      "BedroomAbvGr     1338 non-null int64\n",
      "KitchenAbvGr     1338 non-null int64\n",
      "KitchenQual      1338 non-null object\n",
      "TotRmsAbvGrd     1338 non-null int64\n",
      "Functional       1338 non-null object\n",
      "Fireplaces       1338 non-null int64\n",
      "GarageType       1338 non-null object\n",
      "GarageYrBlt      1338 non-null float64\n",
      "GarageFinish     1338 non-null object\n",
      "GarageCars       1338 non-null int64\n",
      "GarageArea       1338 non-null int64\n",
      "GarageQual       1338 non-null object\n",
      "GarageCond       1338 non-null object\n",
      "PavedDrive       1338 non-null object\n",
      "WoodDeckSF       1338 non-null int64\n",
      "OpenPorchSF      1338 non-null int64\n",
      "EnclosedPorch    1338 non-null int64\n",
      "3SsnPorch        1338 non-null int64\n",
      "ScreenPorch      1338 non-null int64\n",
      "PoolArea         1338 non-null int64\n",
      "MiscVal          1338 non-null int64\n",
      "MoSold           1338 non-null int64\n",
      "YrSold           1338 non-null int64\n",
      "SaleType         1338 non-null object\n",
      "SaleCondition    1338 non-null object\n",
      "SalePrice        1338 non-null int64\n",
      "dtypes: float64(3), int64(34), object(38)\n",
      "memory usage: 794.4+ KB\n"
     ]
    }
   ],
   "source": [
    "df.info()"
   ]
  },
  {
   "cell_type": "code",
   "execution_count": 27,
   "metadata": {},
   "outputs": [],
   "source": [
    "df['MSSubClass'] = df['MSSubClass'].astype('object')\n"
   ]
  },
  {
   "cell_type": "code",
   "execution_count": 28,
   "metadata": {},
   "outputs": [],
   "source": [
    "columns = pd.DataFrame(df.dtypes[df.dtypes != 'int64'][df.dtypes != 'float64']).index"
   ]
  },
  {
   "cell_type": "code",
   "execution_count": 29,
   "metadata": {},
   "outputs": [],
   "source": [
    "for column in columns:\n",
    "    df[column] = df[column].astype('category')"
   ]
  },
  {
   "cell_type": "code",
   "execution_count": 30,
   "metadata": {
    "scrolled": true
   },
   "outputs": [
    {
     "name": "stdout",
     "output_type": "stream",
     "text": [
      "<class 'pandas.core.frame.DataFrame'>\n",
      "Int64Index: 1338 entries, 0 to 1459\n",
      "Data columns (total 75 columns):\n",
      "MSSubClass       1338 non-null category\n",
      "MSZoning         1338 non-null category\n",
      "LotFrontage      1338 non-null float64\n",
      "LotArea          1338 non-null int64\n",
      "Street           1338 non-null category\n",
      "LotShape         1338 non-null category\n",
      "LandContour      1338 non-null category\n",
      "Utilities        1338 non-null category\n",
      "LotConfig        1338 non-null category\n",
      "LandSlope        1338 non-null category\n",
      "Neighborhood     1338 non-null category\n",
      "Condition1       1338 non-null category\n",
      "Condition2       1338 non-null category\n",
      "BldgType         1338 non-null category\n",
      "HouseStyle       1338 non-null category\n",
      "OverallQual      1338 non-null int64\n",
      "OverallCond      1338 non-null int64\n",
      "YearBuilt        1338 non-null int64\n",
      "YearRemodAdd     1338 non-null int64\n",
      "RoofStyle        1338 non-null category\n",
      "RoofMatl         1338 non-null category\n",
      "Exterior1st      1338 non-null category\n",
      "Exterior2nd      1338 non-null category\n",
      "MasVnrType       1338 non-null category\n",
      "MasVnrArea       1338 non-null float64\n",
      "ExterQual        1338 non-null category\n",
      "ExterCond        1338 non-null category\n",
      "Foundation       1338 non-null category\n",
      "BsmtQual         1338 non-null category\n",
      "BsmtCond         1338 non-null category\n",
      "BsmtExposure     1338 non-null category\n",
      "BsmtFinType1     1338 non-null category\n",
      "BsmtFinSF1       1338 non-null int64\n",
      "BsmtFinType2     1338 non-null category\n",
      "BsmtFinSF2       1338 non-null int64\n",
      "BsmtUnfSF        1338 non-null int64\n",
      "TotalBsmtSF      1338 non-null int64\n",
      "Heating          1338 non-null category\n",
      "HeatingQC        1338 non-null category\n",
      "CentralAir       1338 non-null category\n",
      "Electrical       1338 non-null category\n",
      "1stFlrSF         1338 non-null int64\n",
      "2ndFlrSF         1338 non-null int64\n",
      "LowQualFinSF     1338 non-null int64\n",
      "GrLivArea        1338 non-null int64\n",
      "BsmtFullBath     1338 non-null int64\n",
      "BsmtHalfBath     1338 non-null int64\n",
      "FullBath         1338 non-null int64\n",
      "HalfBath         1338 non-null int64\n",
      "BedroomAbvGr     1338 non-null int64\n",
      "KitchenAbvGr     1338 non-null int64\n",
      "KitchenQual      1338 non-null category\n",
      "TotRmsAbvGrd     1338 non-null int64\n",
      "Functional       1338 non-null category\n",
      "Fireplaces       1338 non-null int64\n",
      "GarageType       1338 non-null category\n",
      "GarageYrBlt      1338 non-null float64\n",
      "GarageFinish     1338 non-null category\n",
      "GarageCars       1338 non-null int64\n",
      "GarageArea       1338 non-null int64\n",
      "GarageQual       1338 non-null category\n",
      "GarageCond       1338 non-null category\n",
      "PavedDrive       1338 non-null category\n",
      "WoodDeckSF       1338 non-null int64\n",
      "OpenPorchSF      1338 non-null int64\n",
      "EnclosedPorch    1338 non-null int64\n",
      "3SsnPorch        1338 non-null int64\n",
      "ScreenPorch      1338 non-null int64\n",
      "PoolArea         1338 non-null int64\n",
      "MiscVal          1338 non-null int64\n",
      "MoSold           1338 non-null int64\n",
      "YrSold           1338 non-null int64\n",
      "SaleType         1338 non-null category\n",
      "SaleCondition    1338 non-null category\n",
      "SalePrice        1338 non-null int64\n",
      "dtypes: category(39), float64(3), int64(33)\n",
      "memory usage: 448.1 KB\n"
     ]
    }
   ],
   "source": [
    "df.info()"
   ]
  },
  {
   "cell_type": "code",
   "execution_count": 31,
   "metadata": {},
   "outputs": [],
   "source": [
    "df = pd.get_dummies(df, drop_first=True)"
   ]
  },
  {
   "cell_type": "code",
   "execution_count": 32,
   "metadata": {},
   "outputs": [],
   "source": [
    "from sklearn.model_selection import train_test_split"
   ]
  },
  {
   "cell_type": "code",
   "execution_count": 33,
   "metadata": {},
   "outputs": [
    {
     "data": {
      "text/plain": [
       "(array([148., 723., 373., 135.,  51.,  19.,   4.,   3.,   2.,   2.]),\n",
       " array([ 34900., 106910., 178920., 250930., 322940., 394950., 466960.,\n",
       "        538970., 610980., 682990., 755000.]),\n",
       " <a list of 10 Patch objects>)"
      ]
     },
     "execution_count": 33,
     "metadata": {},
     "output_type": "execute_result"
    },
    {
     "data": {
      "image/png": "[encoded data removed]",
      "text/plain": [
       "<Figure size 432x288 with 1 Axes>"
      ]
     },
     "metadata": {
      "needs_background": "light"
     },
     "output_type": "display_data"
    }
   ],
   "source": [
    "plt.hist(y)"
   ]
  },
  {
   "cell_type": "code",
   "execution_count": 34,
   "metadata": {},
   "outputs": [
    {
     "data": {
      "text/plain": [
       "(array([  5.,  12.,  54., 184., 470., 400., 220.,  90.,  19.,   6.]),\n",
       " array([10.46024211, 10.7676652 , 11.07508829, 11.38251138, 11.68993448,\n",
       "        11.99735757, 12.30478066, 12.61220375, 12.91962684, 13.22704994,\n",
       "        13.53447303]),\n",
       " <a list of 10 Patch objects>)"
      ]
     },
     "execution_count": 34,
     "metadata": {},
     "output_type": "execute_result"
    },
    {
     "data": {
      "image/png": "[encoded data removed]",
      "text/plain": [
       "<Figure size 432x288 with 1 Axes>"
      ]
     },
     "metadata": {
      "needs_background": "light"
     },
     "output_type": "display_data"
    }
   ],
   "source": [
    "# taking the logarithm of the price accounts for the skewness\n",
    "plt.hist(np.log(y))"
   ]
  },
  {
   "cell_type": "code",
   "execution_count": 35,
   "metadata": {},
   "outputs": [
    {
     "name": "stdout",
     "output_type": "stream",
     "text": [
      "<class 'pandas.core.frame.DataFrame'>\n",
      "Int64Index: 1338 entries, 0 to 1459\n",
      "Columns: 241 entries, LotFrontage to SaleCondition_Partial\n",
      "dtypes: float64(3), int64(33), uint8(205)\n",
      "memory usage: 654.6 KB\n"
     ]
    }
   ],
   "source": [
    "df.info()"
   ]
  },
  {
   "cell_type": "code",
   "execution_count": 36,
   "metadata": {},
   "outputs": [],
   "source": [
    "y = df['SalePrice']\n",
    "df = df.drop(columns = 'SalePrice', axis = 1)"
   ]
  },
  {
   "cell_type": "code",
   "execution_count": 37,
   "metadata": {},
   "outputs": [],
   "source": [
    "X = df"
   ]
  },
  {
   "cell_type": "code",
   "execution_count": 38,
   "metadata": {},
   "outputs": [],
   "source": [
    "X_train, X_test, y_train, y_test = train_test_split(X, y)"
   ]
  },
  {
   "cell_type": "code",
   "execution_count": 39,
   "metadata": {},
   "outputs": [],
   "source": [
    "from sklearn.preprocessing import StandardScaler"
   ]
  },
  {
   "cell_type": "code",
   "execution_count": 40,
   "metadata": {},
   "outputs": [],
   "source": [
    "ss = StandardScaler()\n",
    "X_train = ss.fit_transform(X_train)\n",
    "X_test = ss.fit_transform(X_test)"
   ]
  },
  {
   "cell_type": "code",
   "execution_count": 41,
   "metadata": {},
   "outputs": [],
   "source": [
    "from sklearn.model_selection import cross_val_score\n",
    "from sklearn.linear_model import Lasso, Ridge"
   ]
  },
  {
   "cell_type": "code",
   "execution_count": 71,
   "metadata": {},
   "outputs": [],
   "source": [
    "alphas = np.linspace(0.01, 20, 20)"
   ]
  },
  {
   "cell_type": "code",
   "execution_count": 72,
   "metadata": {},
   "outputs": [
    {
     "data": {
      "text/plain": [
       "array([1.00000000e-02, 1.06210526e+00, 2.11421053e+00, 3.16631579e+00,\n",
       "       4.21842105e+00, 5.27052632e+00, 6.32263158e+00, 7.37473684e+00,\n",
       "       8.42684211e+00, 9.47894737e+00, 1.05310526e+01, 1.15831579e+01,\n",
       "       1.26352632e+01, 1.36873684e+01, 1.47394737e+01, 1.57915789e+01,\n",
       "       1.68436842e+01, 1.78957895e+01, 1.89478947e+01, 2.00000000e+01])"
      ]
     },
     "execution_count": 72,
     "metadata": {},
     "output_type": "execute_result"
    }
   ],
   "source": [
    "alphas"
   ]
  },
  {
   "cell_type": "code",
   "execution_count": 75,
   "metadata": {},
   "outputs": [],
   "source": [
    "cross_val_scores = []\n",
    "test_scores = []\n",
    "train_scores = []\n",
    "best_score = 0\n",
    "best_alpha = 0\n",
    "for alpha in alphas:\n",
    "    ridge = Ridge(alpha = alpha)\n",
    "    ridge.fit(X_train, y_train)\n",
    "    train_scores.append(ridge.score(X_train, y_train))\n",
    "    cross_val_scores.append(cross_val_score(ridge, X_train, y_train, cv = 10).mean())\n",
    "    test_scores.append(ridge.score(X_test, y_test))\n",
    "    if cross_val_score(ridge, X_train, y_train, cv = 10).mean() > best_score:\n",
    "        best_alpha = alpha\n",
    "    \n",
    "    \n",
    "    \n",
    "    "
   ]
  },
  {
   "cell_type": "code",
   "execution_count": 81,
   "metadata": {
    "scrolled": true
   },
   "outputs": [
    {
     "name": "stdout",
     "output_type": "stream",
     "text": [
      "train score:  0.9308183568002815\n",
      "cross_val_score:  0.7519261283993958\n",
      "test score:  0.7643058765437336\n",
      "RMSE:  37525.287088692196\n"
     ]
    }
   ],
   "source": [
    "ridge = Ridge(alpha = best_alpha)\n",
    "ridge.fit(X_train, y_train)\n",
    "y_preds = ridge.predict(X_test)\n",
    "RMSE = np.sqrt(mean_squared_error(y_preds, y_test))\n",
    "print('train score: ', ridge.score(X_train, y_train))\n",
    "print('cross_val_score: ', cross_val_score(ridge, X_train, y_train, cv = 10).mean())\n",
    "print('test score: ', ridge.score(X_test, y_test))\n",
    "print('RMSE: ', RMSE)"
   ]
  },
  {
   "cell_type": "code",
   "execution_count": 82,
   "metadata": {
    "scrolled": true
   },
   "outputs": [
    {
     "data": {
      "image/png": "[encoded data removed]",
      "text/plain": [
       "<Figure size 432x288 with 1 Axes>"
      ]
     },
     "metadata": {
      "needs_background": "light"
     },
     "output_type": "display_data"
    }
   ],
   "source": [
    "plt.plot(alphas, train_scores, label = 'train_scores')\n",
    "plt.plot(alphas, cross_val_scores, label = 'cross_val_scores')\n",
    "plt.plot(alphas, test_scores, label = 'test_scores')\n",
    "plt.xlabel('alpha')\n",
    "plt.ylabel('score')\n",
    "plt.legend(loc = 'upper right');"
   ]
  },
  {
   "cell_type": "code",
   "execution_count": 79,
   "metadata": {
    "scrolled": true
   },
   "outputs": [
    {
     "data": {
      "text/html": [
       "<div>\n",
       "<style scoped>\n",
       "    .dataframe tbody tr th:only-of-type {\n",
       "        vertical-align: middle;\n",
       "    }\n",
       "\n",
       "    .dataframe tbody tr th {\n",
       "        vertical-align: top;\n",
       "    }\n",
       "\n",
       "    .dataframe thead th {\n",
       "        text-align: right;\n",
       "    }\n",
       "</style>\n",
       "<table border=\"1\" class=\"dataframe\">\n",
       "  <thead>\n",
       "    <tr style=\"text-align: right;\">\n",
       "      <th></th>\n",
       "      <th>0</th>\n",
       "    </tr>\n",
       "  </thead>\n",
       "  <tbody>\n",
       "    <tr>\n",
       "      <th>RoofMatl_CompShg</th>\n",
       "      <td>28653.097442</td>\n",
       "    </tr>\n",
       "    <tr>\n",
       "      <th>RoofMatl_WdShngl</th>\n",
       "      <td>20076.445120</td>\n",
       "    </tr>\n",
       "    <tr>\n",
       "      <th>GrLivArea</th>\n",
       "      <td>16876.345999</td>\n",
       "    </tr>\n",
       "    <tr>\n",
       "      <th>RoofMatl_Tar&amp;Grv</th>\n",
       "      <td>16228.658068</td>\n",
       "    </tr>\n",
       "    <tr>\n",
       "      <th>2ndFlrSF</th>\n",
       "      <td>12812.023969</td>\n",
       "    </tr>\n",
       "    <tr>\n",
       "      <th>OverallQual</th>\n",
       "      <td>10891.640532</td>\n",
       "    </tr>\n",
       "    <tr>\n",
       "      <th>RoofMatl_WdShake</th>\n",
       "      <td>10706.069322</td>\n",
       "    </tr>\n",
       "    <tr>\n",
       "      <th>LotArea</th>\n",
       "      <td>8290.429213</td>\n",
       "    </tr>\n",
       "    <tr>\n",
       "      <th>1stFlrSF</th>\n",
       "      <td>8075.794989</td>\n",
       "    </tr>\n",
       "    <tr>\n",
       "      <th>RoofMatl_Membran</th>\n",
       "      <td>7764.040254</td>\n",
       "    </tr>\n",
       "    <tr>\n",
       "      <th>YearBuilt</th>\n",
       "      <td>7747.757823</td>\n",
       "    </tr>\n",
       "    <tr>\n",
       "      <th>RoofMatl_Metal</th>\n",
       "      <td>7354.470409</td>\n",
       "    </tr>\n",
       "    <tr>\n",
       "      <th>HouseStyle_1Story</th>\n",
       "      <td>6831.375410</td>\n",
       "    </tr>\n",
       "    <tr>\n",
       "      <th>RoofMatl_Roll</th>\n",
       "      <td>6506.510971</td>\n",
       "    </tr>\n",
       "    <tr>\n",
       "      <th>Neighborhood_NridgHt</th>\n",
       "      <td>6451.393956</td>\n",
       "    </tr>\n",
       "    <tr>\n",
       "      <th>GarageCars</th>\n",
       "      <td>6449.379397</td>\n",
       "    </tr>\n",
       "    <tr>\n",
       "      <th>OverallCond</th>\n",
       "      <td>6313.255402</td>\n",
       "    </tr>\n",
       "    <tr>\n",
       "      <th>Neighborhood_StoneBr</th>\n",
       "      <td>6107.632398</td>\n",
       "    </tr>\n",
       "    <tr>\n",
       "      <th>Neighborhood_NoRidge</th>\n",
       "      <td>5771.626302</td>\n",
       "    </tr>\n",
       "    <tr>\n",
       "      <th>BsmtExposure_Gd</th>\n",
       "      <td>5135.712109</td>\n",
       "    </tr>\n",
       "    <tr>\n",
       "      <th>SaleType_New</th>\n",
       "      <td>5074.994134</td>\n",
       "    </tr>\n",
       "    <tr>\n",
       "      <th>MSZoning_RL</th>\n",
       "      <td>4292.359241</td>\n",
       "    </tr>\n",
       "    <tr>\n",
       "      <th>MasVnrArea</th>\n",
       "      <td>4200.104498</td>\n",
       "    </tr>\n",
       "    <tr>\n",
       "      <th>FullBath</th>\n",
       "      <td>3940.401055</td>\n",
       "    </tr>\n",
       "    <tr>\n",
       "      <th>TotRmsAbvGrd</th>\n",
       "      <td>3904.487898</td>\n",
       "    </tr>\n",
       "    <tr>\n",
       "      <th>Condition1_Norm</th>\n",
       "      <td>3733.991818</td>\n",
       "    </tr>\n",
       "    <tr>\n",
       "      <th>Foundation_PConc</th>\n",
       "      <td>3693.548948</td>\n",
       "    </tr>\n",
       "    <tr>\n",
       "      <th>Street_Pave</th>\n",
       "      <td>3640.051197</td>\n",
       "    </tr>\n",
       "    <tr>\n",
       "      <th>Exterior2nd_Wd Sdng</th>\n",
       "      <td>3510.520403</td>\n",
       "    </tr>\n",
       "    <tr>\n",
       "      <th>Neighborhood_Somerst</th>\n",
       "      <td>3351.905802</td>\n",
       "    </tr>\n",
       "    <tr>\n",
       "      <th>...</th>\n",
       "      <td>...</td>\n",
       "    </tr>\n",
       "    <tr>\n",
       "      <th>LotShape_IR3</th>\n",
       "      <td>-2245.379997</td>\n",
       "    </tr>\n",
       "    <tr>\n",
       "      <th>BsmtFinType2_Rec</th>\n",
       "      <td>-2271.379914</td>\n",
       "    </tr>\n",
       "    <tr>\n",
       "      <th>Functional_Min2</th>\n",
       "      <td>-2423.338445</td>\n",
       "    </tr>\n",
       "    <tr>\n",
       "      <th>LotFrontage</th>\n",
       "      <td>-2541.497959</td>\n",
       "    </tr>\n",
       "    <tr>\n",
       "      <th>GarageYrBlt</th>\n",
       "      <td>-2603.467322</td>\n",
       "    </tr>\n",
       "    <tr>\n",
       "      <th>Exterior1st_Stucco</th>\n",
       "      <td>-2767.439969</td>\n",
       "    </tr>\n",
       "    <tr>\n",
       "      <th>Functional_Min1</th>\n",
       "      <td>-2824.043406</td>\n",
       "    </tr>\n",
       "    <tr>\n",
       "      <th>BldgType_TwnhsE</th>\n",
       "      <td>-2834.646085</td>\n",
       "    </tr>\n",
       "    <tr>\n",
       "      <th>MSSubClass_160</th>\n",
       "      <td>-2946.408437</td>\n",
       "    </tr>\n",
       "    <tr>\n",
       "      <th>BldgType_Twnhs</th>\n",
       "      <td>-2965.654250</td>\n",
       "    </tr>\n",
       "    <tr>\n",
       "      <th>BldgType_2fmCon</th>\n",
       "      <td>-3005.415987</td>\n",
       "    </tr>\n",
       "    <tr>\n",
       "      <th>BedroomAbvGr</th>\n",
       "      <td>-3079.413908</td>\n",
       "    </tr>\n",
       "    <tr>\n",
       "      <th>PoolArea</th>\n",
       "      <td>-3081.939315</td>\n",
       "    </tr>\n",
       "    <tr>\n",
       "      <th>RoofStyle_Gable</th>\n",
       "      <td>-3116.364521</td>\n",
       "    </tr>\n",
       "    <tr>\n",
       "      <th>BsmtExposure_No</th>\n",
       "      <td>-3222.165545</td>\n",
       "    </tr>\n",
       "    <tr>\n",
       "      <th>Neighborhood_NAmes</th>\n",
       "      <td>-3272.493039</td>\n",
       "    </tr>\n",
       "    <tr>\n",
       "      <th>MSSubClass_120</th>\n",
       "      <td>-3406.732408</td>\n",
       "    </tr>\n",
       "    <tr>\n",
       "      <th>HouseStyle_2.5Unf</th>\n",
       "      <td>-3484.736250</td>\n",
       "    </tr>\n",
       "    <tr>\n",
       "      <th>HouseStyle_2.5Fin</th>\n",
       "      <td>-3512.788697</td>\n",
       "    </tr>\n",
       "    <tr>\n",
       "      <th>LandSlope_Sev</th>\n",
       "      <td>-3592.870903</td>\n",
       "    </tr>\n",
       "    <tr>\n",
       "      <th>HouseStyle_2Story</th>\n",
       "      <td>-3604.946247</td>\n",
       "    </tr>\n",
       "    <tr>\n",
       "      <th>Exterior1st_Wd Sdng</th>\n",
       "      <td>-3863.766586</td>\n",
       "    </tr>\n",
       "    <tr>\n",
       "      <th>GarageQual_Fa</th>\n",
       "      <td>-4185.200452</td>\n",
       "    </tr>\n",
       "    <tr>\n",
       "      <th>GarageQual_TA</th>\n",
       "      <td>-4363.862516</td>\n",
       "    </tr>\n",
       "    <tr>\n",
       "      <th>ExterQual_Gd</th>\n",
       "      <td>-5664.207509</td>\n",
       "    </tr>\n",
       "    <tr>\n",
       "      <th>ExterQual_TA</th>\n",
       "      <td>-7220.875898</td>\n",
       "    </tr>\n",
       "    <tr>\n",
       "      <th>KitchenQual_TA</th>\n",
       "      <td>-7695.211039</td>\n",
       "    </tr>\n",
       "    <tr>\n",
       "      <th>BsmtQual_TA</th>\n",
       "      <td>-8431.711674</td>\n",
       "    </tr>\n",
       "    <tr>\n",
       "      <th>KitchenQual_Gd</th>\n",
       "      <td>-9307.867538</td>\n",
       "    </tr>\n",
       "    <tr>\n",
       "      <th>BsmtQual_Gd</th>\n",
       "      <td>-10198.115033</td>\n",
       "    </tr>\n",
       "  </tbody>\n",
       "</table>\n",
       "<p>240 rows × 1 columns</p>\n",
       "</div>"
      ],
      "text/plain": [
       "                                 0\n",
       "RoofMatl_CompShg      28653.097442\n",
       "RoofMatl_WdShngl      20076.445120\n",
       "GrLivArea             16876.345999\n",
       "RoofMatl_Tar&Grv      16228.658068\n",
       "2ndFlrSF              12812.023969\n",
       "OverallQual           10891.640532\n",
       "RoofMatl_WdShake      10706.069322\n",
       "LotArea                8290.429213\n",
       "1stFlrSF               8075.794989\n",
       "RoofMatl_Membran       7764.040254\n",
       "YearBuilt              7747.757823\n",
       "RoofMatl_Metal         7354.470409\n",
       "HouseStyle_1Story      6831.375410\n",
       "RoofMatl_Roll          6506.510971\n",
       "Neighborhood_NridgHt   6451.393956\n",
       "GarageCars             6449.379397\n",
       "OverallCond            6313.255402\n",
       "Neighborhood_StoneBr   6107.632398\n",
       "Neighborhood_NoRidge   5771.626302\n",
       "BsmtExposure_Gd        5135.712109\n",
       "SaleType_New           5074.994134\n",
       "MSZoning_RL            4292.359241\n",
       "MasVnrArea             4200.104498\n",
       "FullBath               3940.401055\n",
       "TotRmsAbvGrd           3904.487898\n",
       "Condition1_Norm        3733.991818\n",
       "Foundation_PConc       3693.548948\n",
       "Street_Pave            3640.051197\n",
       "Exterior2nd_Wd Sdng    3510.520403\n",
       "Neighborhood_Somerst   3351.905802\n",
       "...                            ...\n",
       "LotShape_IR3          -2245.379997\n",
       "BsmtFinType2_Rec      -2271.379914\n",
       "Functional_Min2       -2423.338445\n",
       "LotFrontage           -2541.497959\n",
       "GarageYrBlt           -2603.467322\n",
       "Exterior1st_Stucco    -2767.439969\n",
       "Functional_Min1       -2824.043406\n",
       "BldgType_TwnhsE       -2834.646085\n",
       "MSSubClass_160        -2946.408437\n",
       "BldgType_Twnhs        -2965.654250\n",
       "BldgType_2fmCon       -3005.415987\n",
       "BedroomAbvGr          -3079.413908\n",
       "PoolArea              -3081.939315\n",
       "RoofStyle_Gable       -3116.364521\n",
       "BsmtExposure_No       -3222.165545\n",
       "Neighborhood_NAmes    -3272.493039\n",
       "MSSubClass_120        -3406.732408\n",
       "HouseStyle_2.5Unf     -3484.736250\n",
       "HouseStyle_2.5Fin     -3512.788697\n",
       "LandSlope_Sev         -3592.870903\n",
       "HouseStyle_2Story     -3604.946247\n",
       "Exterior1st_Wd Sdng   -3863.766586\n",
       "GarageQual_Fa         -4185.200452\n",
       "GarageQual_TA         -4363.862516\n",
       "ExterQual_Gd          -5664.207509\n",
       "ExterQual_TA          -7220.875898\n",
       "KitchenQual_TA        -7695.211039\n",
       "BsmtQual_TA           -8431.711674\n",
       "KitchenQual_Gd        -9307.867538\n",
       "BsmtQual_Gd          -10198.115033\n",
       "\n",
       "[240 rows x 1 columns]"
      ]
     },
     "execution_count": 79,
     "metadata": {},
     "output_type": "execute_result"
    }
   ],
   "source": [
    "pd.DataFrame(ridge.coef_, index = X.columns).sort_values(0, ascending = False)"
   ]
  },
  {
   "cell_type": "code",
   "execution_count": 96,
   "metadata": {
    "scrolled": true
   },
   "outputs": [],
   "source": [
    "# Bias-Variance trade off\n",
    "# Now, let's plot a model with fewer variables\n",
    "high = list(df.corrwith(y).sort_values(ascending = False)[0:22].index)\n",
    "low = list(df.corrwith(y).sort_values(ascending = False)[-8:].index)\n",
    "features = high + low"
   ]
  },
  {
   "cell_type": "code",
   "execution_count": 97,
   "metadata": {},
   "outputs": [
    {
     "data": {
      "text/plain": [
       "['OverallQual',\n",
       " 'GrLivArea',\n",
       " 'GarageCars',\n",
       " 'GarageArea',\n",
       " '1stFlrSF',\n",
       " 'TotalBsmtSF',\n",
       " 'FullBath',\n",
       " 'TotRmsAbvGrd',\n",
       " 'YearBuilt',\n",
       " 'YearRemodAdd',\n",
       " 'Foundation_PConc',\n",
       " 'GarageYrBlt',\n",
       " 'MasVnrArea',\n",
       " 'Fireplaces',\n",
       " 'ExterQual_Gd',\n",
       " 'BsmtFinType1_GLQ',\n",
       " 'Neighborhood_NridgHt',\n",
       " 'MSSubClass_60',\n",
       " 'BsmtFinSF1',\n",
       " 'SaleType_New',\n",
       " 'SaleCondition_Partial',\n",
       " 'Neighborhood_NoRidge',\n",
       " 'HeatingQC_TA',\n",
       " 'MasVnrType_None',\n",
       " 'Foundation_CBlock',\n",
       " 'GarageType_Detchd',\n",
       " 'GarageFinish_Unf',\n",
       " 'BsmtQual_TA',\n",
       " 'KitchenQual_TA',\n",
       " 'ExterQual_TA']"
      ]
     },
     "execution_count": 97,
     "metadata": {},
     "output_type": "execute_result"
    }
   ],
   "source": []
  },
  {
   "cell_type": "code",
   "execution_count": 98,
   "metadata": {},
   "outputs": [],
   "source": [
    "# including all features with a correlation of at least 0.3 positive and negative\n",
    "X = df[features]\n",
    "X_train, X_test, y_train, y_test = train_test_split(X, y)\n",
    "ss = StandardScaler()\n",
    "X_train = ss.fit_transform(X_train)\n",
    "X_test = ss.fit_transform(X_test)"
   ]
  },
  {
   "cell_type": "code",
   "execution_count": 99,
   "metadata": {},
   "outputs": [],
   "source": [
    "cross_val_scores = []\n",
    "test_scores = []\n",
    "train_scores = []\n",
    "best_score = 0\n",
    "best_alpha = 0\n",
    "for alpha in alphas:\n",
    "    ridge = Ridge(alpha = alpha)\n",
    "    ridge.fit(X_train, y_train)\n",
    "    train_scores.append(ridge.score(X_train, y_train))\n",
    "    cross_val_scores.append(cross_val_score(ridge, X_train, y_train, cv = 10).mean())\n",
    "    test_scores.append(ridge.score(X_test, y_test))\n",
    "    if cross_val_score(ridge, X_train, y_train, cv = 10).mean() > best_score:\n",
    "        best_alpha = alpha\n",
    "    "
   ]
  },
  {
   "cell_type": "code",
   "execution_count": 100,
   "metadata": {},
   "outputs": [
    {
     "name": "stdout",
     "output_type": "stream",
     "text": [
      "train score:  0.8136950535677093\n",
      "cross_val_score:  0.7784330020054288\n",
      "test score:  0.7703729151992937\n",
      "RMSE:  34460.50756739129\n"
     ]
    }
   ],
   "source": [
    "ridge = Ridge(alpha = best_alpha)\n",
    "ridge.fit(X_train, y_train)\n",
    "y_preds = ridge.predict(X_test)\n",
    "RMSE = np.sqrt(mean_squared_error(y_preds, y_test))\n",
    "print('train score: ', ridge.score(X_train, y_train))\n",
    "print('cross_val_score: ', cross_val_score(ridge, X_train, y_train, cv = 10).mean())\n",
    "print('test score: ', ridge.score(X_test, y_test))\n",
    "print('RMSE: ', RMSE)"
   ]
  },
  {
   "cell_type": "code",
   "execution_count": 101,
   "metadata": {},
   "outputs": [
    {
     "data": {
      "image/png": "[encoded data removed]",
      "text/plain": [
       "<Figure size 432x288 with 1 Axes>"
      ]
     },
     "metadata": {
      "needs_background": "light"
     },
     "output_type": "display_data"
    }
   ],
   "source": [
    "plt.plot(alphas, train_scores, label = 'train_scores')\n",
    "plt.plot(alphas, cross_val_scores, label = 'cross_val_scores')\n",
    "plt.plot(alphas, test_scores, label = 'test_scores')\n",
    "plt.xlabel('alpha')\n",
    "plt.ylabel('score')\n",
    "plt.legend(loc = 'upper right');"
   ]
  },
  {
   "cell_type": "code",
   "execution_count": 102,
   "metadata": {
    "scrolled": true
   },
   "outputs": [
    {
     "data": {
      "text/html": [
       "<div>\n",
       "<style scoped>\n",
       "    .dataframe tbody tr th:only-of-type {\n",
       "        vertical-align: middle;\n",
       "    }\n",
       "\n",
       "    .dataframe tbody tr th {\n",
       "        vertical-align: top;\n",
       "    }\n",
       "\n",
       "    .dataframe thead th {\n",
       "        text-align: right;\n",
       "    }\n",
       "</style>\n",
       "<table border=\"1\" class=\"dataframe\">\n",
       "  <thead>\n",
       "    <tr style=\"text-align: right;\">\n",
       "      <th></th>\n",
       "      <th>0</th>\n",
       "    </tr>\n",
       "  </thead>\n",
       "  <tbody>\n",
       "    <tr>\n",
       "      <th>OverallQual</th>\n",
       "      <td>21104.826918</td>\n",
       "    </tr>\n",
       "    <tr>\n",
       "      <th>GrLivArea</th>\n",
       "      <td>17944.929405</td>\n",
       "    </tr>\n",
       "    <tr>\n",
       "      <th>GarageCars</th>\n",
       "      <td>10611.752386</td>\n",
       "    </tr>\n",
       "    <tr>\n",
       "      <th>Neighborhood_NoRidge</th>\n",
       "      <td>8344.474040</td>\n",
       "    </tr>\n",
       "    <tr>\n",
       "      <th>1stFlrSF</th>\n",
       "      <td>7492.842821</td>\n",
       "    </tr>\n",
       "    <tr>\n",
       "      <th>BsmtFinSF1</th>\n",
       "      <td>7365.992827</td>\n",
       "    </tr>\n",
       "    <tr>\n",
       "      <th>MasVnrArea</th>\n",
       "      <td>6874.742983</td>\n",
       "    </tr>\n",
       "    <tr>\n",
       "      <th>MasVnrType_None</th>\n",
       "      <td>6259.296078</td>\n",
       "    </tr>\n",
       "    <tr>\n",
       "      <th>Neighborhood_NridgHt</th>\n",
       "      <td>6124.293305</td>\n",
       "    </tr>\n",
       "    <tr>\n",
       "      <th>SaleType_New</th>\n",
       "      <td>5261.214824</td>\n",
       "    </tr>\n",
       "    <tr>\n",
       "      <th>Fireplaces</th>\n",
       "      <td>5057.415860</td>\n",
       "    </tr>\n",
       "    <tr>\n",
       "      <th>Foundation_CBlock</th>\n",
       "      <td>4659.270774</td>\n",
       "    </tr>\n",
       "    <tr>\n",
       "      <th>Foundation_PConc</th>\n",
       "      <td>4392.285283</td>\n",
       "    </tr>\n",
       "    <tr>\n",
       "      <th>YearRemodAdd</th>\n",
       "      <td>4308.406894</td>\n",
       "    </tr>\n",
       "    <tr>\n",
       "      <th>BsmtFinType1_GLQ</th>\n",
       "      <td>3446.093125</td>\n",
       "    </tr>\n",
       "    <tr>\n",
       "      <th>TotRmsAbvGrd</th>\n",
       "      <td>3383.308853</td>\n",
       "    </tr>\n",
       "    <tr>\n",
       "      <th>YearBuilt</th>\n",
       "      <td>2137.599302</td>\n",
       "    </tr>\n",
       "    <tr>\n",
       "      <th>TotalBsmtSF</th>\n",
       "      <td>1512.872215</td>\n",
       "    </tr>\n",
       "    <tr>\n",
       "      <th>MSSubClass_60</th>\n",
       "      <td>1241.627871</td>\n",
       "    </tr>\n",
       "    <tr>\n",
       "      <th>SaleCondition_Partial</th>\n",
       "      <td>1102.392124</td>\n",
       "    </tr>\n",
       "    <tr>\n",
       "      <th>BsmtQual_TA</th>\n",
       "      <td>966.209024</td>\n",
       "    </tr>\n",
       "    <tr>\n",
       "      <th>FullBath</th>\n",
       "      <td>867.943574</td>\n",
       "    </tr>\n",
       "    <tr>\n",
       "      <th>GarageType_Detchd</th>\n",
       "      <td>-1114.399589</td>\n",
       "    </tr>\n",
       "    <tr>\n",
       "      <th>HeatingQC_TA</th>\n",
       "      <td>-1172.129538</td>\n",
       "    </tr>\n",
       "    <tr>\n",
       "      <th>GarageFinish_Unf</th>\n",
       "      <td>-1399.798795</td>\n",
       "    </tr>\n",
       "    <tr>\n",
       "      <th>GarageArea</th>\n",
       "      <td>-2148.268270</td>\n",
       "    </tr>\n",
       "    <tr>\n",
       "      <th>GarageYrBlt</th>\n",
       "      <td>-2429.462381</td>\n",
       "    </tr>\n",
       "    <tr>\n",
       "      <th>KitchenQual_TA</th>\n",
       "      <td>-3444.696092</td>\n",
       "    </tr>\n",
       "    <tr>\n",
       "      <th>ExterQual_Gd</th>\n",
       "      <td>-9139.319953</td>\n",
       "    </tr>\n",
       "    <tr>\n",
       "      <th>ExterQual_TA</th>\n",
       "      <td>-10175.523960</td>\n",
       "    </tr>\n",
       "  </tbody>\n",
       "</table>\n",
       "</div>"
      ],
      "text/plain": [
       "                                  0\n",
       "OverallQual            21104.826918\n",
       "GrLivArea              17944.929405\n",
       "GarageCars             10611.752386\n",
       "Neighborhood_NoRidge    8344.474040\n",
       "1stFlrSF                7492.842821\n",
       "BsmtFinSF1              7365.992827\n",
       "MasVnrArea              6874.742983\n",
       "MasVnrType_None         6259.296078\n",
       "Neighborhood_NridgHt    6124.293305\n",
       "SaleType_New            5261.214824\n",
       "Fireplaces              5057.415860\n",
       "Foundation_CBlock       4659.270774\n",
       "Foundation_PConc        4392.285283\n",
       "YearRemodAdd            4308.406894\n",
       "BsmtFinType1_GLQ        3446.093125\n",
       "TotRmsAbvGrd            3383.308853\n",
       "YearBuilt               2137.599302\n",
       "TotalBsmtSF             1512.872215\n",
       "MSSubClass_60           1241.627871\n",
       "SaleCondition_Partial   1102.392124\n",
       "BsmtQual_TA              966.209024\n",
       "FullBath                 867.943574\n",
       "GarageType_Detchd      -1114.399589\n",
       "HeatingQC_TA           -1172.129538\n",
       "GarageFinish_Unf       -1399.798795\n",
       "GarageArea             -2148.268270\n",
       "GarageYrBlt            -2429.462381\n",
       "KitchenQual_TA         -3444.696092\n",
       "ExterQual_Gd           -9139.319953\n",
       "ExterQual_TA          -10175.523960"
      ]
     },
     "execution_count": 102,
     "metadata": {},
     "output_type": "execute_result"
    }
   ],
   "source": [
    "pd.DataFrame(ridge.coef_, index = X.columns).sort_values(0, ascending = False)"
   ]
  },
  {
   "cell_type": "code",
   "execution_count": null,
   "metadata": {},
   "outputs": [],
   "source": []
  },
  {
   "cell_type": "code",
   "execution_count": 52,
   "metadata": {},
   "outputs": [],
   "source": [
    "# Interaction terms\n"
   ]
  }
 ],
 "metadata": {
  "kernelspec": {
   "display_name": "Python 3",
   "language": "python",
   "name": "python3"
  },
  "language_info": {
   "codemirror_mode": {
    "name": "ipython",
    "version": 3
   },
   "file_extension": ".py",
   "mimetype": "text/x-python",
   "name": "python",
   "nbconvert_exporter": "python",
   "pygments_lexer": "ipython3",
   "version": "3.7.1"
  }
 },
 "nbformat": 4,
 "nbformat_minor": 2
}
