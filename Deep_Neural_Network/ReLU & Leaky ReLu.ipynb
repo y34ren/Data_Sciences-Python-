{
 "cells": [
  {
   "cell_type": "code",
   "execution_count": 1,
   "metadata": {},
   "outputs": [],
   "source": [
    "import numpy as np\n",
    "import matplotlib.pyplot as plt\n",
    "%matplotlib inline"
   ]
  },
  {
   "cell_type": "code",
   "execution_count": null,
   "metadata": {},
   "outputs": [],
   "source": [
    "def tanh(z):\n",
    "    return (np.exp(z) - np.exp(-z)) / (np.exp(z) + np.exp(-z))\n",
    "\n",
    "def D_tanh(z):\n",
    "    return 1 - (tanh(z))**2\n",
    "\n",
    "def ReLU(h):\n",
    "    #return np.maximum(h, 0)\n",
    "    return h*(h>0)\n",
    "    \n",
    "def D_ReLU(h):\n",
    "    #return np.maximum(h, 0)/h\n",
    "    return (h>0)\n",
    "\n",
    "def Leaky_ReLU(h,c):\n",
    "    return h*(h>0) + c*h*(h<0)\n",
    "    \n",
    "def D_Leaky_ReLU(h,c):\n",
    "     return h*(h>0) + c*(h<0)"
   ]
  }
 ],
 "metadata": {
  "kernelspec": {
   "display_name": "Python 3",
   "language": "python",
   "name": "python3"
  },
  "language_info": {
   "codemirror_mode": {
    "name": "ipython",
    "version": 3
   },
   "file_extension": ".py",
   "mimetype": "text/x-python",
   "name": "python",
   "nbconvert_exporter": "python",
   "pygments_lexer": "ipython3",
   "version": "3.7.1"
  }
 },
 "nbformat": 4,
 "nbformat_minor": 2
}
