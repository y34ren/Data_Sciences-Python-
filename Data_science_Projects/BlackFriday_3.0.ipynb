{
 "cells": [
  {
   "cell_type": "code",
   "execution_count": 7,
   "metadata": {},
   "outputs": [],
   "source": [
    "import pandas as pd\n",
    "import numpy as np\n",
    "import math\n",
    "import matplotlib.pyplot as plt\n",
    "%matplotlib inline"
   ]
  },
  {
   "cell_type": "code",
   "execution_count": 8,
   "metadata": {},
   "outputs": [],
   "source": [
    "def plot(group,column,plot):\n",
    "    g = df.groupby(group)[column].sum().sort_values(ascending=False)\n",
    "    #print(g)\n",
    "    pd.DataFrame(g).plot.bar(figsize=(15,9))\n",
    "    plot.legend(loc=2, prop={'size': 6})\n",
    "    \n",
    "    #print(g)\n",
    "def OLS(y,y_hat):\n",
    "    return (y - y_hat).dot(y - y_hat)\n",
    "def R2 (y, y_hat):\n",
    "    return 1 - OLS(y, y_hat) / OLS(y,y.mean())\n",
    "\n",
    "def OLS_L2(y,y_hat,l2,w):\n",
    "    return (y - y_hat).dot(y - y_hat) + l2*w.T.dot(w)\n",
    "\n",
    "\n",
    "# GD with no reularzition\n",
    "def GD(X,y,eta):\n",
    "    \n",
    "    w = np.random.randn(X.shape[1])\n",
    "    J = []\n",
    "    epochs = int(1e3)\n",
    "\n",
    "    for i in range(epochs):\n",
    "        y_hat = X.dot(w)\n",
    "        J.append(OLS(y,y_hat))\n",
    "        w -= eta*X.T.dot(y_hat - y)\n",
    "    \n",
    "    return (J,w,y_hat)\n",
    "\n",
    "def J_Va (X1,y1,X2,y2):\n",
    "    \n",
    "    cv = []\n",
    "    \n",
    "    N_train = X1.shape[0]\n",
    "    N_cv = X2.shape[0]\n",
    "    \n",
    "    \n",
    "    #我把 L2 调到了前面为了提升速度， 因为 只用 在 L1 = 0 的时候，L2 可以用 close form solution 这样可以快速找到 w\n",
    "    #这样可以省去每个 L1 = 0 的那个loop \n",
    "    # 你也可以把 L2 地下的function 拿掉，把 L1 的 range 改成 从 0 开始， 也是一样的， L1 loop L2 loop 调位置也可以\n",
    "    # 我之前就是把 L1 放在前面的， 但是，如果要用 L2 的 close form 就必须把 L2 放在前面\n",
    "    \n",
    "    #我的 error 是出在 L1 里面的 lambda1*np.sign(w)) 的位置 写错了。\n",
    "    \n",
    "    for lambda2 in range(0,2):\n",
    "        \n",
    "        w = np.linalg.solve(X1.T.dot(X1)+lambda2*np.eye(X1.shape[1]), X1.T.dot(y1))\n",
    "        y_hat_train = X1.dot(w)\n",
    "        y_hat_cv = X2.dot(w)\n",
    "        J_train = (1/N_train)*OLS(y1, y_hat_train)\n",
    "        J_cv = (1/N_cv)*OLS(y2, y_hat_cv)\n",
    "        cv.append((J_train, J_cv, 0 , lambda2))\n",
    "       #必须从1开始\n",
    "        for lambda1 in range(1,3):\n",
    "    \n",
    "            eta = 1e-6\n",
    "            epochs = int(1e3)\n",
    "    \n",
    "            for t in range(epochs):\n",
    "                y_hat_train = X1.dot(w)\n",
    "                w -= eta*(X1.T.dot(y_hat_train - y1) + lambda2*w + lambda1*np.sign(w))\n",
    "        \n",
    "            y_hat_cv = X2.dot(w)\n",
    "    \n",
    "            J_train = (1/N_train)*OLS(y1, y_hat_train)\n",
    "            J_cv = (1/N_cv)*OLS(y2, y_hat_cv)\n",
    "    \n",
    "            cv.append((J_train, J_cv, lambda1, lambda2))\n",
    "    return cv"
   ]
  },
  {
   "cell_type": "code",
   "execution_count": 9,
   "metadata": {},
   "outputs": [],
   "source": [
    "np.random.seed(101)\n",
    "df = pd.read_csv(\"./BlackFriday.csv\")\n",
    "df.drop(['User_ID', 'Product_ID'], axis=1, inplace = True)\n",
    "df.fillna(0,inplace = True)\n",
    "df[\"Occupation\"] = df[\"Occupation\"].map(str)\n",
    "df[\"Marital_Status\"] = df[\"Marital_Status\"].map(str)\n",
    "df[\"Age/Occupation\"] = df[\"Age\"] + df[\"Occupation\"]\n",
    "df[\"Age/Gender\"] = df[\"Age\"]+ df[\"Gender\"]\n",
    "df[\"Age/Marital\"] = df[\"Age\"] + df[\"Marital_Status\"]\n",
    "df[\"Gender/Marital\"] = df[\"Gender\"]+ df[\"Marital_Status\"]\n",
    "df[\"All_Product\"] = df[\"Product_Category_1\"] + df[\"Product_Category_2\"]+ df[\"Product_Category_3\"]\n",
    "df[\"1_2_Product\"] = df[\"Product_Category_1\"] + df[\"Product_Category_2\"]\n",
    "df[\"1_3_Product\"] = df[\"Product_Category_1\"]+ df[\"Product_Category_3\"]\n",
    "df[\"2_3_Product\"] = df[\"Product_Category_2\"]+ df[\"Product_Category_3\"]\n",
    "columns_to_1hot = [\"Age/Occupation\",\"Age/Gender\",\"Age/Marital\",\"Gender/Marital\",\"2_3_Product\",\"1_3_Product\",\"1_2_Product\",'All_Product',\"Stay_In_Current_City_Years\",\n",
    "                   'Gender','City_Category','Age','Occupation','Marital_Status',\n",
    "                   'Product_Category_1','Product_Category_2','Product_Category_3']\n",
    "\n",
    "df = pd.get_dummies(df, columns=columns_to_1hot)\n",
    "df = df.sample(frac=1)\n",
    "\n",
    "Train = int(df.shape[0] * 0.6)\n",
    "Validate = int(df.shape[0] * 0.2)\n",
    "Test = int(df.shape[0] - Train - Validate)\n",
    "\n",
    "Train_Model =  df[:Train:]\n",
    "Validate_Model = df[Train:Validate + Train:]\n",
    "Test_Model = df[Validate + Train::]\n",
    "    \n",
    "    \n",
    "#D_Train = pd.get_dummies(Train_Model)\n",
    "#D_Train.drop(\"Purchase\",axis='columns',inplace=True)\n",
    "D_Train = Train_Model.drop(\"Purchase\",axis='columns')\n",
    "\n",
    "\n",
    "y1 = Train_Model.Purchase\n",
    "x1 = D_Train\n",
    "    \n",
    "x1 = (x1 - x1.min()) / (x1.max() - x1.min())\n",
    "X1 = np.vstack([np.array([1]*(x1.shape[0])), x1.T]).T\n",
    "    \n",
    "Id1 = np.identity(X1.shape[1])\n",
    "Id2 = np.identity(X1.shape[1])\n",
    "Id1[0,0] = 0\n",
    "\n",
    "#D_Validate = pd.get_dummies(Validate_Model)\n",
    "#D_Validate.drop(\"Purchase\",axis='columns',inplace=True)\n",
    "\n",
    "D_Validate = Validate_Model.drop(\"Purchase\",axis='columns')\n",
    "\n",
    "y2 = Validate_Model.Purchase\n",
    "x2 = D_Validate\n",
    "\n",
    "#x2 = (x2 - x2.min()) / (x2.max() - x2.min())\n",
    "X2 = np.vstack([np.array([1]*(x2.shape[0])), x2.T]).T\n",
    "\n",
    "\n",
    "#D_Test = pd.get_dummies(Test_Model)\n",
    "#D_Test.drop(\"Purchase\",axis='columns',inplace=True)\n",
    "\n",
    "D_Test = Test_Model.drop(\"Purchase\",axis='columns')\n",
    "\n",
    "y3 = Test_Model.Purchase\n",
    "x3 = D_Test\n",
    "\n",
    "#x3 = (x3 - x3.min()) / (x3.max() - x3.min())\n",
    "X3 = np.vstack([np.array([1]*(x3.shape[0])), x3.T]).T"
   ]
  },
  {
   "cell_type": "code",
   "execution_count": 10,
   "metadata": {
    "scrolled": true
   },
   "outputs": [
    {
     "data": {
      "text/plain": [
       "[<matplotlib.lines.Line2D at 0x21199b1e2b0>]"
      ]
     },
     "execution_count": 10,
     "metadata": {},
     "output_type": "execute_result"
    },
    {
     "data": {
      "image/png": "[encoded data removed]",
      "text/plain": [
       "<Figure size 432x288 with 1 Axes>"
      ]
     },
     "metadata": {
      "needs_background": "light"
     },
     "output_type": "display_data"
    }
   ],
   "source": [
    "output = GD(X1,y1,1e-6)# J,w,y_hat\n",
    "plt.plot(output[0])"
   ]
  },
  {
   "cell_type": "code",
   "execution_count": 11,
   "metadata": {
    "scrolled": true
   },
   "outputs": [
    {
     "name": "stdout",
     "output_type": "stream",
     "text": [
      "Training Error: 8819096.326106947\n",
      "Validation Error: 8980771.838921519\n"
     ]
    }
   ],
   "source": [
    "N_train = X1.shape[0]\n",
    "N_cv = X2.shape[0]\n",
    "\n",
    "J_train = (1/N_train)*OLS(y1, output[2])\n",
    "\n",
    "y_hat_cv = X2.dot(output[1])\n",
    "\n",
    "J_cv = (1/N_cv)*OLS(y2, y_hat_cv)\n",
    "\n",
    "print(\"Training Error: {}\".format(J_train))\n",
    "print(\"Validation Error: {}\".format(J_cv))\n",
    "\n",
    "\n"
   ]
  },
  {
   "cell_type": "code",
   "execution_count": 12,
   "metadata": {},
   "outputs": [
    {
     "name": "stdout",
     "output_type": "stream",
     "text": [
      "Lambda 1: 2\n",
      "Lambda 2: 1\n"
     ]
    }
   ],
   "source": [
    "cv = J_Va (X1,y1,X2,y2)\n",
    "J_train = [i for i,j,k,m in cv]\n",
    "J_cv = [j for i,j,k,m in cv]\n",
    "lambda1 = [k for i,j,k,m in cv]\n",
    "lambda2 = [m for i,j,k,m in cv]\n",
    "\n",
    "o = J_cv.index(min(J_cv))\n",
    "\n",
    "l1 = lambda1[o]\n",
    "l2 = lambda2[o]\n",
    "\n",
    "print(\"Lambda 1: {}\".format(l1))\n",
    "print(\"Lambda 2: {}\".format(l2))"
   ]
  },
  {
   "cell_type": "code",
   "execution_count": 13,
   "metadata": {},
   "outputs": [
    {
     "data": {
      "text/plain": [
       "<matplotlib.legend.Legend at 0x211f92650b8>"
      ]
     },
     "execution_count": 13,
     "metadata": {},
     "output_type": "execute_result"
    },
    {
     "data": {
      "image/png": "[encoded data removed]",
      "text/plain": [
       "<Figure size 576x432 with 1 Axes>"
      ]
     },
     "metadata": {
      "needs_background": "light"
     },
     "output_type": "display_data"
    }
   ],
   "source": [
    "plt.figure(figsize = (8,6))\n",
    "plt.plot(lambda2, J_train, label = \"Training Error\")\n",
    "plt.plot(lambda2, J_cv, label = \"Validation Error\")\n",
    "plt.legend()"
   ]
  },
  {
   "cell_type": "code",
   "execution_count": 14,
   "metadata": {},
   "outputs": [
    {
     "data": {
      "text/plain": [
       "<matplotlib.legend.Legend at 0x2119a7e60b8>"
      ]
     },
     "execution_count": 14,
     "metadata": {},
     "output_type": "execute_result"
    },
    {
     "data": {
      "image/png": "[encoded data removed]",
      "text/plain": [
       "<Figure size 576x432 with 1 Axes>"
      ]
     },
     "metadata": {
      "needs_background": "light"
     },
     "output_type": "display_data"
    }
   ],
   "source": [
    "plt.figure(figsize = (8,6))\n",
    "plt.plot(lambda1, J_train, label = \"Training Error\")\n",
    "plt.plot(lambda1, J_cv, label = \"Validation Error\")\n",
    "plt.legend()"
   ]
  },
  {
   "cell_type": "code",
   "execution_count": 15,
   "metadata": {},
   "outputs": [
    {
     "name": "stdout",
     "output_type": "stream",
     "text": [
      "Test Error: 8889196.452810679\n",
      "R Squared: 0.6418107889206053\n"
     ]
    }
   ],
   "source": [
    "w = np.random.randn(X1.shape[1])\n",
    "\n",
    "eta = 1e-6\n",
    "epochs = int(1e3)\n",
    "\n",
    "for t in range(epochs):\n",
    "    y_hat_train = X1.dot(w)\n",
    "    w -= eta*(X1.T.dot(y_hat_train - y1) + l2*w + l1*np.sign(w))\n",
    "\n",
    "    \n",
    "y_hat_test = X3.dot(w)\n",
    "\n",
    "N_test = X3.shape[0]\n",
    "J_test = (1/N_test)*OLS(y3, y_hat_test)\n",
    "\n",
    "print(\"Test Error: {}\".format(J_test))\n",
    "\n",
    "print(\"R Squared: {}\".format(R2(y3, y_hat_test)))"
   ]
  },
  {
   "cell_type": "markdown",
   "metadata": {},
   "source": [
    "W = []\n",
    "eta = 1e-6\n",
    "w = np.random.randn(X1.shape[1])\n",
    "for i in range (100):\n",
    "    y_hat_train = X1.dot(w)\n",
    "    W.append(OLS(y1,y_hat_train))\n",
    "    w -= eta*(X1.T.dot(y_hat_train - y1) + l2*w + l1*np.sign(w))\n",
    "\n",
    "\n"
   ]
  },
  {
   "cell_type": "markdown",
   "metadata": {},
   "source": [
    "plt.plot(W)"
   ]
  },
  {
   "cell_type": "markdown",
   "metadata": {},
   "source": [
    "y_hat_test = X3.dot(w)\n",
    "\n",
    "N_test = X3.shape[0]\n",
    "J_test = (1/N_test)*OLS(y3, y_hat_test)\n",
    "\n",
    "print(\"Test Error: {}\".format(J_test))"
   ]
  },
  {
   "cell_type": "markdown",
   "metadata": {},
   "source": [
    "R2(y3, y_hat_test)"
   ]
  },
  {
   "cell_type": "markdown",
   "metadata": {},
   "source": [
    "w = np.random.randn(X1.shape[1])\n",
    "eta = 3e-5\n",
    "y_hat_train = X1.dot(w)\n",
    "w -= eta*(X1.T.dot(y_hat_train - y1) + l2*w + l1*np.sign(w))\n",
    "\n",
    "y_hat_test = X3.dot(w)\n",
    "J_test = (1/N_test)*OLS(y3, y_hat_test)\n",
    "print(\"Test Error: {}\".format(J_test))"
   ]
  },
  {
   "cell_type": "markdown",
   "metadata": {},
   "source": [
    "np.isnan(J_test).any()\n"
   ]
  },
  {
   "cell_type": "markdown",
   "metadata": {},
   "source": [
    "This is the different data frames I used \n",
    "*************************************************************\n",
    "df = pd.read_csv(\"./Project2Data/BlackFriday.csv\")\n",
    "\n",
    "df.drop(['User_ID', 'Product_ID'], axis=1, inplace = True)\n",
    "\n",
    "columns_to_1hot = [\"Stay_In_Current_City_Years\",'Gender','City_Category','Age','Occupation','Marital_Status','Product_Category_1','Product_Category_2','Product_Category_3']\n",
    "\n",
    "Training Error: 8963383.799396714\n",
    "\n",
    "Validation Error: 9126741.288465848\n",
    "\n",
    "*************************************************************\n",
    "\n",
    "df.fillna(0,inplace = True)\n",
    "df[\"All_Product\"] = df[\"Product_Category_1\"] + df[\"Product_Category_2\"]+ df[\"Product_Category_3\"]\n",
    "df[\"1_2_Product\"] = df[\"Product_Category_1\"] + df[\"Product_Category_2\"]\n",
    "df[\"1_3_Product\"] = df[\"Product_Category_1\"]+ df[\"Product_Category_3\"]\n",
    "df[\"2_3_Product\"] = df[\"Product_Category_2\"]+ df[\"Product_Category_3\"]\n",
    "columns_to_1hot = [\"2_3_Product\",\"1_3_Product\",\"1_2_Product\",'All_Product',\"Stay_In_Current_City_Years\",\n",
    "                   'Gender','City_Category','Age','Occupation','Marital_Status',\n",
    "                   'Product_Category_1','Product_Category_2','Product_Category_3']\n",
    "                   \n",
    "Training Error: 8856642.625530493\n",
    "Validation Error: 9008174.920970961\n",
    "\n",
    "*************************************************************\n",
    "\n",
    "df[\"Occupation\"] = df[\"Occupation\"].map(str)\n",
    "df[\"Marital_Status\"] = df[\"Marital_Status\"].map(str)\n",
    "df[\"Age/Occupation\"] = df[\"Age\"] + df[\"Occupation\"]\n",
    "df[\"Age/Gender\"] = df[\"Age\"]+ df[\"Gender\"]\n",
    "df[\"Age/Marital\"] = df[\"Age\"] + df[\"Marital_Status\"]\n",
    "df[\"Gender/Marital\"] = df[\"Gender\"]+ df[\"Marital_Status\"]\n",
    "df[\"All_Product\"] = df[\"Product_Category_1\"] + df[\"Product_Category_2\"]+ df[\"Product_Category_3\"]\n",
    "df[\"1_2_Product\"] = df[\"Product_Category_1\"] + df[\"Product_Category_2\"]\n",
    "df[\"1_3_Product\"] = df[\"Product_Category_1\"]+ df[\"Product_Category_3\"]\n",
    "df[\"2_3_Product\"] = df[\"Product_Category_2\"]+ df[\"Product_Category_3\"]\n",
    "columns_to_1hot = [\"Age/Occupation\",\"Age/Gender\",\"Age/Marital\",\"Gender/Marital\",\"2_3_Product\",\"1_3_Product\",\"1_2_Product\",'All_Product',\"Stay_In_Current_City_Years\",\n",
    "                   'Gender','City_Category','Age','Occupation','Marital_Status',\n",
    "                   'Product_Category_1','Product_Category_2','Product_Category_3']\n",
    "                   \n",
    "Training Error: 8819096.326106947\n",
    "Validation Error: 8980771.838921519"
   ]
  },
  {
   "cell_type": "code",
   "execution_count": null,
   "metadata": {},
   "outputs": [],
   "source": []
  },
  {
   "cell_type": "code",
   "execution_count": null,
   "metadata": {},
   "outputs": [],
   "source": []
  }
 ],
 "metadata": {
  "kernelspec": {
   "display_name": "Python 3",
   "language": "python",
   "name": "python3"
  },
  "language_info": {
   "codemirror_mode": {
    "name": "ipython",
    "version": 3
   },
   "file_extension": ".py",
   "mimetype": "text/x-python",
   "name": "python",
   "nbconvert_exporter": "python",
   "pygments_lexer": "ipython3",
   "version": "3.7.1"
  }
 },
 "nbformat": 4,
 "nbformat_minor": 2
}
