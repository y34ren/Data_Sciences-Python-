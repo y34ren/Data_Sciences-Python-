{
 "cells": [
  {
   "cell_type": "code",
   "execution_count": 1,
   "metadata": {},
   "outputs": [],
   "source": [
    "import pandas as pd\n",
    "import numpy as np\n",
    "import math\n",
    "import matplotlib.pyplot as plt\n",
    "%matplotlib inline"
   ]
  },
  {
   "cell_type": "code",
   "execution_count": 3,
   "metadata": {},
   "outputs": [],
   "source": [
    "def softmax(H):\n",
    "\teH = np.exp(H)\n",
    "\treturn eH/eH.sum(axis = 1, keepdims = True)\n",
    "\n",
    "def accuracy(y, y_hat):\n",
    "\treturn np.mean(y == y_hat)\n",
    "\n",
    "def cross_entropy(Y, P_hat):\n",
    "\treturn -np.sum(Y*np.log(P_hat))\n",
    "\n",
    "def one_hot_encode(y):\n",
    "\tN = len(y)\n",
    "\tK = len(set(y))\n",
    "\n",
    "\tY = np.zeros((N,K))\n",
    "\n",
    "\tfor i in range(N):\n",
    "\t\tY[i,y[i]] = 1\n",
    "\n",
    "\treturn Y\n",
    "\n",
    "\n",
    "class Classification():\n",
    "    \n",
    "    def __init__(self):\n",
    "        pass\n",
    "        \n",
    "    def Fit(X,Y,eta=1e-6 ,epochs=1e3, lambda1 = 0, lambda2 = 0,batch_sz = 1,show_curve = False):\n",
    "        \n",
    "        self.X = np.hstack((np.ones((X.shape[0],1)), X))\n",
    "        self.Y = one_hot_encode(Y)\n",
    "        \n",
    "        self.w = np.random.randn(self.X.shape[1],self.Y.shape[1])\n",
    "        self.J = []\n",
    "    \n",
    "\n",
    "        for i in range(epochs):\n",
    "            \n",
    "            for i in range(self.X.shape[0]//batch_sz):\n",
    "                x_i = self.X[i*batch_sz:(i+1)*batch_sz,:]\n",
    "                y_i = self.Y[i*batch_sz:(i+1)*batch_sz,:]\n",
    "                \n",
    "                p = softmax(x_i.dot(self.w)) \n",
    "                self.w -= eta*(x_i.T.dot(p - y_i) + lambda1*np.sign(self.w) + lambda2*self.w)\n",
    "   \n",
    "\n",
    "            self.p = self.X.dot(self.w)\n",
    "            self.J.append((cross_entropy(self.Y, self.p)) + (lambda2/2)* np.sum(self.w.dot(self.w)) + lambda1 *np.sum(np.abs(self.w)))\n",
    "                    \n",
    "        if (show_curve):\n",
    "            plt.plot(self.J)\n",
    "            \n",
    "    def predict(self, X):\n",
    "        p = self.X.dot(self.w)\n",
    "        return p.argmax(axis = 1)\n",
    "            \n",
    "    def accuracy (self):\n",
    "        return np.mean(y == self.p.argmax(axis =1))\n",
    "    \n",
    "    \n"
   ]
  },
  {
   "cell_type": "code",
   "execution_count": null,
   "metadata": {},
   "outputs": [],
   "source": []
  }
 ],
 "metadata": {
  "kernelspec": {
   "display_name": "Python 3",
   "language": "python",
   "name": "python3"
  },
  "language_info": {
   "codemirror_mode": {
    "name": "ipython",
    "version": 3
   },
   "file_extension": ".py",
   "mimetype": "text/x-python",
   "name": "python",
   "nbconvert_exporter": "python",
   "pygments_lexer": "ipython3",
   "version": "3.7.1"
  }
 },
 "nbformat": 4,
 "nbformat_minor": 2
}
